{
 "cells": [
  {
   "cell_type": "code",
   "execution_count": 1,
   "id": "768131a9",
   "metadata": {},
   "outputs": [],
   "source": [
    "import pandas as pd\n",
    "import numpy as np\n",
    "\n",
    "import matplotlib.pyplot as plt\n",
    "import seaborn as sns\n",
    "import plotly.express as px\n",
    "import regex as re\n",
    "import statistics\n"
   ]
  },
  {
   "cell_type": "code",
   "execution_count": 2,
   "id": "8fe3576c",
   "metadata": {},
   "outputs": [
    {
     "data": {
      "text/html": [
       "<div>\n",
       "<style scoped>\n",
       "    .dataframe tbody tr th:only-of-type {\n",
       "        vertical-align: middle;\n",
       "    }\n",
       "\n",
       "    .dataframe tbody tr th {\n",
       "        vertical-align: top;\n",
       "    }\n",
       "\n",
       "    .dataframe thead th {\n",
       "        text-align: right;\n",
       "    }\n",
       "</style>\n",
       "<table border=\"1\" class=\"dataframe\">\n",
       "  <thead>\n",
       "    <tr style=\"text-align: right;\">\n",
       "      <th></th>\n",
       "      <th>name</th>\n",
       "      <th>address</th>\n",
       "      <th>type_of_place</th>\n",
       "      <th>rating</th>\n",
       "      <th>reviews</th>\n",
       "      <th>contact</th>\n",
       "      <th>url</th>\n",
       "    </tr>\n",
       "  </thead>\n",
       "  <tbody>\n",
       "    <tr>\n",
       "      <th>0</th>\n",
       "      <td>Akhil India private limited 91-C warehouse jammu</td>\n",
       "      <td>Ratnuchak, Sanjay Nagar, Gujarbasti, Jammu, Ja...</td>\n",
       "      <td>warehouses in india</td>\n",
       "      <td>4.7</td>\n",
       "      <td>(3)</td>\n",
       "      <td>NaN</td>\n",
       "      <td>https://www.google.com/maps/place/Akhil+India+...</td>\n",
       "    </tr>\n",
       "    <tr>\n",
       "      <th>1</th>\n",
       "      <td>Safari Industries India Ltd</td>\n",
       "      <td>Camp Gurdwara, H No. 288, Ward No. 58, near Di...</td>\n",
       "      <td>warehouses in india</td>\n",
       "      <td>4.3</td>\n",
       "      <td>(6)</td>\n",
       "      <td>NaN</td>\n",
       "      <td>https://www.google.com/maps/place/Safari+Indus...</td>\n",
       "    </tr>\n",
       "    <tr>\n",
       "      <th>2</th>\n",
       "      <td>VI Warehouse Jammu</td>\n",
       "      <td>White House, Vodafone Idea Warehouse Anke Indu...</td>\n",
       "      <td>warehouses in india</td>\n",
       "      <td>4.5</td>\n",
       "      <td>(2)</td>\n",
       "      <td>NaN</td>\n",
       "      <td>https://www.google.com/maps/place/VI+Warehouse...</td>\n",
       "    </tr>\n",
       "    <tr>\n",
       "      <th>3</th>\n",
       "      <td>FastBeetle Warehouse Jammu</td>\n",
       "      <td>Dharap, Jammu, Jammu and Kashmir 181132</td>\n",
       "      <td>warehouses in india</td>\n",
       "      <td>3.6</td>\n",
       "      <td>(5)</td>\n",
       "      <td>NaN</td>\n",
       "      <td>https://www.google.com/maps/place/FastBeetle+W...</td>\n",
       "    </tr>\n",
       "    <tr>\n",
       "      <th>4</th>\n",
       "      <td>Rani Bagh Warehouse</td>\n",
       "      <td>MRHR+RCF, RS Pura Rd, Raipur Satwari, Jammu, J...</td>\n",
       "      <td>warehouses in india</td>\n",
       "      <td>4.5</td>\n",
       "      <td>(4)</td>\n",
       "      <td>094191 44732</td>\n",
       "      <td>https://www.google.com/maps/place/Rani+Bagh+Wa...</td>\n",
       "    </tr>\n",
       "  </tbody>\n",
       "</table>\n",
       "</div>"
      ],
      "text/plain": [
       "                                               name  \\\n",
       "0  Akhil India private limited 91-C warehouse jammu   \n",
       "1                       Safari Industries India Ltd   \n",
       "2                                VI Warehouse Jammu   \n",
       "3                        FastBeetle Warehouse Jammu   \n",
       "4                               Rani Bagh Warehouse   \n",
       "\n",
       "                                             address        type_of_place  \\\n",
       "0  Ratnuchak, Sanjay Nagar, Gujarbasti, Jammu, Ja...  warehouses in india   \n",
       "1  Camp Gurdwara, H No. 288, Ward No. 58, near Di...  warehouses in india   \n",
       "2  White House, Vodafone Idea Warehouse Anke Indu...  warehouses in india   \n",
       "3            Dharap, Jammu, Jammu and Kashmir 181132  warehouses in india   \n",
       "4  MRHR+RCF, RS Pura Rd, Raipur Satwari, Jammu, J...  warehouses in india   \n",
       "\n",
       "   rating reviews       contact  \\\n",
       "0     4.7     (3)           NaN   \n",
       "1     4.3     (6)           NaN   \n",
       "2     4.5     (2)           NaN   \n",
       "3     3.6     (5)           NaN   \n",
       "4     4.5     (4)  094191 44732   \n",
       "\n",
       "                                                 url  \n",
       "0  https://www.google.com/maps/place/Akhil+India+...  \n",
       "1  https://www.google.com/maps/place/Safari+Indus...  \n",
       "2  https://www.google.com/maps/place/VI+Warehouse...  \n",
       "3  https://www.google.com/maps/place/FastBeetle+W...  \n",
       "4  https://www.google.com/maps/place/Rani+Bagh+Wa...  "
      ]
     },
     "execution_count": 2,
     "metadata": {},
     "output_type": "execute_result"
    }
   ],
   "source": [
    "df=pd.read_csv('map_data.csv')\n",
    "df.head()"
   ]
  },
  {
   "cell_type": "markdown",
   "id": "11171022",
   "metadata": {},
   "source": [
    "### EXTRACTING LATITUDE AND LONGITUDE FROM URL"
   ]
  },
  {
   "cell_type": "code",
   "execution_count": 3,
   "id": "dd8898b2",
   "metadata": {},
   "outputs": [
    {
     "data": {
      "text/html": [
       "<div>\n",
       "<style scoped>\n",
       "    .dataframe tbody tr th:only-of-type {\n",
       "        vertical-align: middle;\n",
       "    }\n",
       "\n",
       "    .dataframe tbody tr th {\n",
       "        vertical-align: top;\n",
       "    }\n",
       "\n",
       "    .dataframe thead th {\n",
       "        text-align: right;\n",
       "    }\n",
       "</style>\n",
       "<table border=\"1\" class=\"dataframe\">\n",
       "  <thead>\n",
       "    <tr style=\"text-align: right;\">\n",
       "      <th></th>\n",
       "      <th>name</th>\n",
       "      <th>address</th>\n",
       "      <th>type_of_place</th>\n",
       "      <th>rating</th>\n",
       "      <th>reviews</th>\n",
       "      <th>contact</th>\n",
       "      <th>url</th>\n",
       "      <th>latitude</th>\n",
       "      <th>longitude</th>\n",
       "    </tr>\n",
       "  </thead>\n",
       "  <tbody>\n",
       "    <tr>\n",
       "      <th>0</th>\n",
       "      <td>Akhil India private limited 91-C warehouse jammu</td>\n",
       "      <td>Ratnuchak, Sanjay Nagar, Gujarbasti, Jammu, Ja...</td>\n",
       "      <td>warehouses in india</td>\n",
       "      <td>4.7</td>\n",
       "      <td>(3)</td>\n",
       "      <td>NaN</td>\n",
       "      <td>https://www.google.com/maps/place/Akhil+India+...</td>\n",
       "      <td>32.715812</td>\n",
       "      <td>74.552817</td>\n",
       "    </tr>\n",
       "    <tr>\n",
       "      <th>1</th>\n",
       "      <td>Safari Industries India Ltd</td>\n",
       "      <td>Camp Gurdwara, H No. 288, Ward No. 58, near Di...</td>\n",
       "      <td>warehouses in india</td>\n",
       "      <td>4.3</td>\n",
       "      <td>(6)</td>\n",
       "      <td>NaN</td>\n",
       "      <td>https://www.google.com/maps/place/Safari+Indus...</td>\n",
       "      <td>32.715812</td>\n",
       "      <td>74.552817</td>\n",
       "    </tr>\n",
       "    <tr>\n",
       "      <th>2</th>\n",
       "      <td>VI Warehouse Jammu</td>\n",
       "      <td>White House, Vodafone Idea Warehouse Anke Indu...</td>\n",
       "      <td>warehouses in india</td>\n",
       "      <td>4.5</td>\n",
       "      <td>(2)</td>\n",
       "      <td>NaN</td>\n",
       "      <td>https://www.google.com/maps/place/VI+Warehouse...</td>\n",
       "      <td>32.715812</td>\n",
       "      <td>74.552817</td>\n",
       "    </tr>\n",
       "    <tr>\n",
       "      <th>3</th>\n",
       "      <td>FastBeetle Warehouse Jammu</td>\n",
       "      <td>Dharap, Jammu, Jammu and Kashmir 181132</td>\n",
       "      <td>warehouses in india</td>\n",
       "      <td>3.6</td>\n",
       "      <td>(5)</td>\n",
       "      <td>NaN</td>\n",
       "      <td>https://www.google.com/maps/place/FastBeetle+W...</td>\n",
       "      <td>32.715812</td>\n",
       "      <td>74.552817</td>\n",
       "    </tr>\n",
       "    <tr>\n",
       "      <th>4</th>\n",
       "      <td>Rani Bagh Warehouse</td>\n",
       "      <td>MRHR+RCF, RS Pura Rd, Raipur Satwari, Jammu, J...</td>\n",
       "      <td>warehouses in india</td>\n",
       "      <td>4.5</td>\n",
       "      <td>(4)</td>\n",
       "      <td>094191 44732</td>\n",
       "      <td>https://www.google.com/maps/place/Rani+Bagh+Wa...</td>\n",
       "      <td>32.715812</td>\n",
       "      <td>74.552817</td>\n",
       "    </tr>\n",
       "  </tbody>\n",
       "</table>\n",
       "</div>"
      ],
      "text/plain": [
       "                                               name  \\\n",
       "0  Akhil India private limited 91-C warehouse jammu   \n",
       "1                       Safari Industries India Ltd   \n",
       "2                                VI Warehouse Jammu   \n",
       "3                        FastBeetle Warehouse Jammu   \n",
       "4                               Rani Bagh Warehouse   \n",
       "\n",
       "                                             address        type_of_place  \\\n",
       "0  Ratnuchak, Sanjay Nagar, Gujarbasti, Jammu, Ja...  warehouses in india   \n",
       "1  Camp Gurdwara, H No. 288, Ward No. 58, near Di...  warehouses in india   \n",
       "2  White House, Vodafone Idea Warehouse Anke Indu...  warehouses in india   \n",
       "3            Dharap, Jammu, Jammu and Kashmir 181132  warehouses in india   \n",
       "4  MRHR+RCF, RS Pura Rd, Raipur Satwari, Jammu, J...  warehouses in india   \n",
       "\n",
       "   rating reviews       contact  \\\n",
       "0     4.7     (3)           NaN   \n",
       "1     4.3     (6)           NaN   \n",
       "2     4.5     (2)           NaN   \n",
       "3     3.6     (5)           NaN   \n",
       "4     4.5     (4)  094191 44732   \n",
       "\n",
       "                                                 url   latitude  longitude  \n",
       "0  https://www.google.com/maps/place/Akhil+India+...  32.715812  74.552817  \n",
       "1  https://www.google.com/maps/place/Safari+Indus...  32.715812  74.552817  \n",
       "2  https://www.google.com/maps/place/VI+Warehouse...  32.715812  74.552817  \n",
       "3  https://www.google.com/maps/place/FastBeetle+W...  32.715812  74.552817  \n",
       "4  https://www.google.com/maps/place/Rani+Bagh+Wa...  32.715812  74.552817  "
      ]
     },
     "execution_count": 3,
     "metadata": {},
     "output_type": "execute_result"
    }
   ],
   "source": [
    "def lat_lon(url):\n",
    "    match = re.search(r'@(-?\\d+\\.\\d+),(-?\\d+\\.\\d+)', url)\n",
    "    if match:\n",
    "        latitude = float(match.group(1))\n",
    "        longitude = float(match.group(2))\n",
    "        return latitude, longitude\n",
    "    else:\n",
    "        return None, None\n",
    "\n",
    "df['latitude'], df['longitude'] = zip(*df['url'].apply(lat_lon))\n",
    "\n",
    "df.head()\n"
   ]
  },
  {
   "cell_type": "markdown",
   "id": "33dbdda5",
   "metadata": {},
   "source": [
    "### DATA CLEANING & DATA PREPROCESSING"
   ]
  },
  {
   "cell_type": "code",
   "execution_count": 4,
   "id": "e6306f93",
   "metadata": {},
   "outputs": [
    {
     "name": "stdout",
     "output_type": "stream",
     "text": [
      "<class 'pandas.core.frame.DataFrame'>\n",
      "RangeIndex: 218 entries, 0 to 217\n",
      "Data columns (total 9 columns):\n",
      " #   Column         Non-Null Count  Dtype  \n",
      "---  ------         --------------  -----  \n",
      " 0   name           218 non-null    object \n",
      " 1   address        218 non-null    object \n",
      " 2   type_of_place  218 non-null    object \n",
      " 3   rating         213 non-null    float64\n",
      " 4   reviews        213 non-null    object \n",
      " 5   contact        152 non-null    object \n",
      " 6   url            218 non-null    object \n",
      " 7   latitude       218 non-null    float64\n",
      " 8   longitude      218 non-null    float64\n",
      "dtypes: float64(3), object(6)\n",
      "memory usage: 15.5+ KB\n"
     ]
    }
   ],
   "source": [
    "df.info()"
   ]
  },
  {
   "cell_type": "code",
   "execution_count": 5,
   "id": "603e45d8",
   "metadata": {},
   "outputs": [
    {
     "data": {
      "text/plain": [
       "name              0\n",
       "address           0\n",
       "type_of_place     0\n",
       "rating            5\n",
       "reviews           5\n",
       "contact          66\n",
       "url               0\n",
       "latitude          0\n",
       "longitude         0\n",
       "dtype: int64"
      ]
     },
     "execution_count": 5,
     "metadata": {},
     "output_type": "execute_result"
    }
   ],
   "source": [
    "df.isna().sum()"
   ]
  },
  {
   "cell_type": "code",
   "execution_count": 6,
   "id": "3994982c",
   "metadata": {},
   "outputs": [],
   "source": [
    "#Filling null values:\n",
    "df['rating']=df['rating'].fillna(2.5)\n",
    "df['reviews']=df['reviews'].fillna(\"(0)\")"
   ]
  },
  {
   "cell_type": "code",
   "execution_count": 7,
   "id": "35611c52",
   "metadata": {},
   "outputs": [],
   "source": [
    "#Fixing reviews i.e. (3)->3\n",
    "def revi(obj):\n",
    "    return obj[1:-1]"
   ]
  },
  {
   "cell_type": "code",
   "execution_count": 8,
   "id": "8e9c1ce3",
   "metadata": {},
   "outputs": [
    {
     "data": {
      "text/html": [
       "<div>\n",
       "<style scoped>\n",
       "    .dataframe tbody tr th:only-of-type {\n",
       "        vertical-align: middle;\n",
       "    }\n",
       "\n",
       "    .dataframe tbody tr th {\n",
       "        vertical-align: top;\n",
       "    }\n",
       "\n",
       "    .dataframe thead th {\n",
       "        text-align: right;\n",
       "    }\n",
       "</style>\n",
       "<table border=\"1\" class=\"dataframe\">\n",
       "  <thead>\n",
       "    <tr style=\"text-align: right;\">\n",
       "      <th></th>\n",
       "      <th>name</th>\n",
       "      <th>address</th>\n",
       "      <th>type_of_place</th>\n",
       "      <th>rating</th>\n",
       "      <th>reviews</th>\n",
       "      <th>contact</th>\n",
       "      <th>url</th>\n",
       "      <th>latitude</th>\n",
       "      <th>longitude</th>\n",
       "    </tr>\n",
       "  </thead>\n",
       "  <tbody>\n",
       "    <tr>\n",
       "      <th>0</th>\n",
       "      <td>Akhil India private limited 91-C warehouse jammu</td>\n",
       "      <td>Ratnuchak, Sanjay Nagar, Gujarbasti, Jammu, Ja...</td>\n",
       "      <td>warehouses in india</td>\n",
       "      <td>4.7</td>\n",
       "      <td>3</td>\n",
       "      <td>NaN</td>\n",
       "      <td>https://www.google.com/maps/place/Akhil+India+...</td>\n",
       "      <td>32.715812</td>\n",
       "      <td>74.552817</td>\n",
       "    </tr>\n",
       "    <tr>\n",
       "      <th>1</th>\n",
       "      <td>Safari Industries India Ltd</td>\n",
       "      <td>Camp Gurdwara, H No. 288, Ward No. 58, near Di...</td>\n",
       "      <td>warehouses in india</td>\n",
       "      <td>4.3</td>\n",
       "      <td>6</td>\n",
       "      <td>NaN</td>\n",
       "      <td>https://www.google.com/maps/place/Safari+Indus...</td>\n",
       "      <td>32.715812</td>\n",
       "      <td>74.552817</td>\n",
       "    </tr>\n",
       "    <tr>\n",
       "      <th>2</th>\n",
       "      <td>VI Warehouse Jammu</td>\n",
       "      <td>White House, Vodafone Idea Warehouse Anke Indu...</td>\n",
       "      <td>warehouses in india</td>\n",
       "      <td>4.5</td>\n",
       "      <td>2</td>\n",
       "      <td>NaN</td>\n",
       "      <td>https://www.google.com/maps/place/VI+Warehouse...</td>\n",
       "      <td>32.715812</td>\n",
       "      <td>74.552817</td>\n",
       "    </tr>\n",
       "    <tr>\n",
       "      <th>3</th>\n",
       "      <td>FastBeetle Warehouse Jammu</td>\n",
       "      <td>Dharap, Jammu, Jammu and Kashmir 181132</td>\n",
       "      <td>warehouses in india</td>\n",
       "      <td>3.6</td>\n",
       "      <td>5</td>\n",
       "      <td>NaN</td>\n",
       "      <td>https://www.google.com/maps/place/FastBeetle+W...</td>\n",
       "      <td>32.715812</td>\n",
       "      <td>74.552817</td>\n",
       "    </tr>\n",
       "    <tr>\n",
       "      <th>4</th>\n",
       "      <td>Rani Bagh Warehouse</td>\n",
       "      <td>MRHR+RCF, RS Pura Rd, Raipur Satwari, Jammu, J...</td>\n",
       "      <td>warehouses in india</td>\n",
       "      <td>4.5</td>\n",
       "      <td>4</td>\n",
       "      <td>094191 44732</td>\n",
       "      <td>https://www.google.com/maps/place/Rani+Bagh+Wa...</td>\n",
       "      <td>32.715812</td>\n",
       "      <td>74.552817</td>\n",
       "    </tr>\n",
       "  </tbody>\n",
       "</table>\n",
       "</div>"
      ],
      "text/plain": [
       "                                               name  \\\n",
       "0  Akhil India private limited 91-C warehouse jammu   \n",
       "1                       Safari Industries India Ltd   \n",
       "2                                VI Warehouse Jammu   \n",
       "3                        FastBeetle Warehouse Jammu   \n",
       "4                               Rani Bagh Warehouse   \n",
       "\n",
       "                                             address        type_of_place  \\\n",
       "0  Ratnuchak, Sanjay Nagar, Gujarbasti, Jammu, Ja...  warehouses in india   \n",
       "1  Camp Gurdwara, H No. 288, Ward No. 58, near Di...  warehouses in india   \n",
       "2  White House, Vodafone Idea Warehouse Anke Indu...  warehouses in india   \n",
       "3            Dharap, Jammu, Jammu and Kashmir 181132  warehouses in india   \n",
       "4  MRHR+RCF, RS Pura Rd, Raipur Satwari, Jammu, J...  warehouses in india   \n",
       "\n",
       "   rating reviews       contact  \\\n",
       "0     4.7       3           NaN   \n",
       "1     4.3       6           NaN   \n",
       "2     4.5       2           NaN   \n",
       "3     3.6       5           NaN   \n",
       "4     4.5       4  094191 44732   \n",
       "\n",
       "                                                 url   latitude  longitude  \n",
       "0  https://www.google.com/maps/place/Akhil+India+...  32.715812  74.552817  \n",
       "1  https://www.google.com/maps/place/Safari+Indus...  32.715812  74.552817  \n",
       "2  https://www.google.com/maps/place/VI+Warehouse...  32.715812  74.552817  \n",
       "3  https://www.google.com/maps/place/FastBeetle+W...  32.715812  74.552817  \n",
       "4  https://www.google.com/maps/place/Rani+Bagh+Wa...  32.715812  74.552817  "
      ]
     },
     "execution_count": 8,
     "metadata": {},
     "output_type": "execute_result"
    }
   ],
   "source": [
    "df['reviews']=df['reviews'].apply(revi)\n",
    "df.head()"
   ]
  },
  {
   "cell_type": "code",
   "execution_count": 9,
   "id": "008f49f2",
   "metadata": {},
   "outputs": [],
   "source": [
    "#converting reviews object data type to float64\n",
    "df['reviews'] = df['reviews'].str.replace(',', '').astype(float)"
   ]
  },
  {
   "cell_type": "code",
   "execution_count": 10,
   "id": "4448a2e4",
   "metadata": {},
   "outputs": [],
   "source": [
    "#removing contact column as it has a lot of variablities in format and a lot of null values\n",
    "df.drop(['contact'],axis=1,inplace=True)"
   ]
  },
  {
   "cell_type": "code",
   "execution_count": 11,
   "id": "787a396c",
   "metadata": {},
   "outputs": [],
   "source": [
    "#modifying type of place column\n",
    "def top(obj):\n",
    "    return obj.split()[0]\n"
   ]
  },
  {
   "cell_type": "code",
   "execution_count": 12,
   "id": "09e2102f",
   "metadata": {},
   "outputs": [],
   "source": [
    "df['type_of_place']=df['type_of_place'].apply(top)"
   ]
  },
  {
   "cell_type": "code",
   "execution_count": 13,
   "id": "b23a4279",
   "metadata": {},
   "outputs": [
    {
     "data": {
      "text/html": [
       "<div>\n",
       "<style scoped>\n",
       "    .dataframe tbody tr th:only-of-type {\n",
       "        vertical-align: middle;\n",
       "    }\n",
       "\n",
       "    .dataframe tbody tr th {\n",
       "        vertical-align: top;\n",
       "    }\n",
       "\n",
       "    .dataframe thead th {\n",
       "        text-align: right;\n",
       "    }\n",
       "</style>\n",
       "<table border=\"1\" class=\"dataframe\">\n",
       "  <thead>\n",
       "    <tr style=\"text-align: right;\">\n",
       "      <th></th>\n",
       "      <th>name</th>\n",
       "      <th>address</th>\n",
       "      <th>type_of_place</th>\n",
       "      <th>rating</th>\n",
       "      <th>reviews</th>\n",
       "      <th>url</th>\n",
       "      <th>latitude</th>\n",
       "      <th>longitude</th>\n",
       "    </tr>\n",
       "  </thead>\n",
       "  <tbody>\n",
       "    <tr>\n",
       "      <th>0</th>\n",
       "      <td>Akhil India private limited 91-C warehouse jammu</td>\n",
       "      <td>Ratnuchak, Sanjay Nagar, Gujarbasti, Jammu, Ja...</td>\n",
       "      <td>warehouses</td>\n",
       "      <td>4.7</td>\n",
       "      <td>3.0</td>\n",
       "      <td>https://www.google.com/maps/place/Akhil+India+...</td>\n",
       "      <td>32.715812</td>\n",
       "      <td>74.552817</td>\n",
       "    </tr>\n",
       "    <tr>\n",
       "      <th>1</th>\n",
       "      <td>Safari Industries India Ltd</td>\n",
       "      <td>Camp Gurdwara, H No. 288, Ward No. 58, near Di...</td>\n",
       "      <td>warehouses</td>\n",
       "      <td>4.3</td>\n",
       "      <td>6.0</td>\n",
       "      <td>https://www.google.com/maps/place/Safari+Indus...</td>\n",
       "      <td>32.715812</td>\n",
       "      <td>74.552817</td>\n",
       "    </tr>\n",
       "    <tr>\n",
       "      <th>2</th>\n",
       "      <td>VI Warehouse Jammu</td>\n",
       "      <td>White House, Vodafone Idea Warehouse Anke Indu...</td>\n",
       "      <td>warehouses</td>\n",
       "      <td>4.5</td>\n",
       "      <td>2.0</td>\n",
       "      <td>https://www.google.com/maps/place/VI+Warehouse...</td>\n",
       "      <td>32.715812</td>\n",
       "      <td>74.552817</td>\n",
       "    </tr>\n",
       "    <tr>\n",
       "      <th>3</th>\n",
       "      <td>FastBeetle Warehouse Jammu</td>\n",
       "      <td>Dharap, Jammu, Jammu and Kashmir 181132</td>\n",
       "      <td>warehouses</td>\n",
       "      <td>3.6</td>\n",
       "      <td>5.0</td>\n",
       "      <td>https://www.google.com/maps/place/FastBeetle+W...</td>\n",
       "      <td>32.715812</td>\n",
       "      <td>74.552817</td>\n",
       "    </tr>\n",
       "    <tr>\n",
       "      <th>4</th>\n",
       "      <td>Rani Bagh Warehouse</td>\n",
       "      <td>MRHR+RCF, RS Pura Rd, Raipur Satwari, Jammu, J...</td>\n",
       "      <td>warehouses</td>\n",
       "      <td>4.5</td>\n",
       "      <td>4.0</td>\n",
       "      <td>https://www.google.com/maps/place/Rani+Bagh+Wa...</td>\n",
       "      <td>32.715812</td>\n",
       "      <td>74.552817</td>\n",
       "    </tr>\n",
       "  </tbody>\n",
       "</table>\n",
       "</div>"
      ],
      "text/plain": [
       "                                               name  \\\n",
       "0  Akhil India private limited 91-C warehouse jammu   \n",
       "1                       Safari Industries India Ltd   \n",
       "2                                VI Warehouse Jammu   \n",
       "3                        FastBeetle Warehouse Jammu   \n",
       "4                               Rani Bagh Warehouse   \n",
       "\n",
       "                                             address type_of_place  rating  \\\n",
       "0  Ratnuchak, Sanjay Nagar, Gujarbasti, Jammu, Ja...    warehouses     4.7   \n",
       "1  Camp Gurdwara, H No. 288, Ward No. 58, near Di...    warehouses     4.3   \n",
       "2  White House, Vodafone Idea Warehouse Anke Indu...    warehouses     4.5   \n",
       "3            Dharap, Jammu, Jammu and Kashmir 181132    warehouses     3.6   \n",
       "4  MRHR+RCF, RS Pura Rd, Raipur Satwari, Jammu, J...    warehouses     4.5   \n",
       "\n",
       "   reviews                                                url   latitude  \\\n",
       "0      3.0  https://www.google.com/maps/place/Akhil+India+...  32.715812   \n",
       "1      6.0  https://www.google.com/maps/place/Safari+Indus...  32.715812   \n",
       "2      2.0  https://www.google.com/maps/place/VI+Warehouse...  32.715812   \n",
       "3      5.0  https://www.google.com/maps/place/FastBeetle+W...  32.715812   \n",
       "4      4.0  https://www.google.com/maps/place/Rani+Bagh+Wa...  32.715812   \n",
       "\n",
       "   longitude  \n",
       "0  74.552817  \n",
       "1  74.552817  \n",
       "2  74.552817  \n",
       "3  74.552817  \n",
       "4  74.552817  "
      ]
     },
     "execution_count": 13,
     "metadata": {},
     "output_type": "execute_result"
    }
   ],
   "source": [
    "df.head()"
   ]
  },
  {
   "cell_type": "code",
   "execution_count": 14,
   "id": "daf3df14",
   "metadata": {},
   "outputs": [],
   "source": [
    "df['type_of_place']=df['type_of_place'].replace('Hostpitals','hospitals')"
   ]
  },
  {
   "cell_type": "markdown",
   "id": "cca417da",
   "metadata": {},
   "source": [
    "### DATA ANALYTICS AND VISUALIZATIONS"
   ]
  },
  {
   "cell_type": "code",
   "execution_count": 15,
   "id": "31048592",
   "metadata": {},
   "outputs": [],
   "source": [
    "#average ratings of places\n",
    "lw=[]\n",
    "lm=[]\n",
    "lh=[]\n",
    "lp=[]\n",
    "ls=[]\n",
    "lu=[]\n",
    "for i in df.values:\n",
    "    if(i[2]=='warehouses'):\n",
    "        lw.append(i[3])\n",
    "    elif(i[2]=='malls'):\n",
    "        lm.append(i[3])\n",
    "    elif(i[2]=='hospitals'):\n",
    "        lh.append(i[3])\n",
    "    elif(i[2]=='parking-lots'):\n",
    "        lp.append(i[3])\n",
    "    elif(i[2]=='schools'):\n",
    "        ls.append(i[3])\n",
    "    elif(i[2]=='Universities'):\n",
    "        lu.append(i[3])\n",
    "        \n"
   ]
  },
  {
   "cell_type": "code",
   "execution_count": 16,
   "id": "4c6304d8",
   "metadata": {},
   "outputs": [
    {
     "name": "stdout",
     "output_type": "stream",
     "text": [
      "-------------------------------------------------------\n",
      "Average rating for warehouses is:  4.015151515151515\n",
      "Average rating for malls is:  4.16578947368421\n",
      "Average rating for hospitals is:  4.192857142857143\n",
      "Average rating for parking-lots is:  3.952\n",
      "Average rating for schools is:  4.223076923076923\n",
      "Average rating for universities is:  4.278048780487805\n",
      "-------------------------------------------------------\n"
     ]
    }
   ],
   "source": [
    "print('-'*55)\n",
    "print('Average rating for warehouses is: ',statistics.mean(lw))\n",
    "print('Average rating for malls is: ',statistics.mean(lm))\n",
    "print('Average rating for hospitals is: ',statistics.mean(lh))\n",
    "print('Average rating for parking-lots is: ',statistics.mean(lp))\n",
    "print('Average rating for schools is: ',statistics.mean(ls))\n",
    "print('Average rating for universities is: ',statistics.mean(lu))\n",
    "print('-'*55)\n"
   ]
  },
  {
   "cell_type": "code",
   "execution_count": 17,
   "id": "c8b879b8",
   "metadata": {},
   "outputs": [
    {
     "data": {
      "text/plain": [
       "<Axes: xlabel='name'>"
      ]
     },
     "execution_count": 17,
     "metadata": {},
     "output_type": "execute_result"
    },
    {
     "data": {
      "image/png": "[encoded data removed]",
      "text/plain": [
       "<Figure size 640x480 with 1 Axes>"
      ]
     },
     "metadata": {},
     "output_type": "display_data"
    }
   ],
   "source": [
    "#places with most number of reviews:\n",
    "df.groupby('name').max()['reviews'].nlargest(10).plot(kind='bar')"
   ]
  },
  {
   "cell_type": "code",
   "execution_count": 18,
   "id": "7fc21ef2",
   "metadata": {},
   "outputs": [
    {
     "data": {
      "text/plain": [
       "name                                         type_of_place\n",
       "DLF Mall of India                            malls            147255.0\n",
       "Nexus Elante Mall                            malls            118809.0\n",
       "VR Punjab                                    malls             42750.0\n",
       "Vegas Mall                                   malls             37797.0\n",
       "Aakash Healthcare Super Speciality Hospital  hospitals         19065.0\n",
       "VR Ambarsar                                  malls             18793.0\n",
       "BLK-Max Super Speciality Hospital Delhi      hospitals         16407.0\n",
       "Omaxe Mall                                   malls             14898.0\n",
       "Park Hospital                                hospitals         12126.0\n",
       "Venkateshwar Hospital                        hospitals         12124.0\n",
       "Name: reviews, dtype: float64"
      ]
     },
     "execution_count": 18,
     "metadata": {},
     "output_type": "execute_result"
    }
   ],
   "source": [
    "df.groupby(['name','type_of_place']).max()['reviews'].nlargest(10)"
   ]
  },
  {
   "cell_type": "markdown",
   "id": "9f9301d3",
   "metadata": {},
   "source": [
    "Malls Are the most visited place among other places"
   ]
  },
  {
   "cell_type": "code",
   "execution_count": 19,
   "id": "0eb48e74",
   "metadata": {},
   "outputs": [
    {
     "data": {
      "text/plain": [
       "name                                                             type_of_place\n",
       "Benevolence logistics                                            warehouses       5.0\n",
       "Best Cancer Hospital in India                                    hospitals        5.0\n",
       "Best Spine Surgery Hospital in India                             hospitals        5.0\n",
       "Central warehousing corporation                                  warehouses       5.0\n",
       "CollegeSakha - Top Colleges, Universities & Institutes in india  Universities     5.0\n",
       "La Trobe International India                                     Universities     5.0\n",
       "My Care India | Medical Tourism | Health Tourism in India        hospitals        5.0\n",
       "Pearl omax parking lot                                           parking-lots     5.0\n",
       "RED Ambulances - RED.Health Gurgaon                              hospitals        5.0\n",
       "ServeXplus India Central Warehouse                               warehouses       5.0\n",
       "Name: rating, dtype: float64"
      ]
     },
     "execution_count": 19,
     "metadata": {},
     "output_type": "execute_result"
    }
   ],
   "source": [
    "#places with highest ratings\n",
    "df.groupby(['name','type_of_place']).max()['rating'].nlargest(10)"
   ]
  },
  {
   "cell_type": "code",
   "execution_count": 20,
   "id": "bbcd9a13",
   "metadata": {},
   "outputs": [
    {
     "name": "stdout",
     "output_type": "stream",
     "text": [
      "hospitals       42\n",
      "Universities    41\n",
      "schools         39\n",
      "malls           38\n",
      "warehouses      33\n",
      "parking-lots    25\n",
      "Name: type_of_place, dtype: int64\n"
     ]
    },
    {
     "data": {
      "text/plain": [
       "<Axes: >"
      ]
     },
     "execution_count": 20,
     "metadata": {},
     "output_type": "execute_result"
    },
    {
     "data": {
      "image/png": "[encoded data removed]",
      "text/plain": [
       "<Figure size 640x480 with 1 Axes>"
      ]
     },
     "metadata": {},
     "output_type": "display_data"
    }
   ],
   "source": [
    "print(df['type_of_place'].value_counts())\n",
    "df['type_of_place'].value_counts().plot(kind='bar')"
   ]
  },
  {
   "cell_type": "markdown",
   "id": "ea4d0113",
   "metadata": {},
   "source": [
    "### PLOTTING MAP FOR EACH LOCATION"
   ]
  },
  {
   "cell_type": "code",
   "execution_count": 27,
   "id": "86d228d0",
   "metadata": {},
   "outputs": [
    {
     "data": {
      "application/vnd.plotly.v1+json": {
       "config": {
        "plotlyServerURL": "https://plot.ly"
       },
       "data": [
        {
         "hovertemplate": "<b>%{hovertext}</b><br><br>type_of_place=warehouses<br>latitude=%{lat}<br>longitude=%{lon}<extra></extra>",
         "hovertext": [
          "Akhil India private limited 91-C warehouse jammu",
          "Safari Industries India Ltd",
          "VI Warehouse Jammu",
          "FastBeetle Warehouse Jammu",
          "Rani Bagh Warehouse",
          "Centre warehouse corporation ( FOOD CORPORATION OF INDIA ) MOGA - 2 (Base)",
          "Central warehousing corporation",
          "ware house,steel authority of india limited",
          "Xplent | On-Demand Warehouse - Buy, Sale, Lease & Rent Warehouse or Godown in India",
          "Punjab State Warehousing Corporation",
          "Warehousing Express Logistics Pvt. Ltd.",
          "Amritsar Warehouse Solutions",
          "Warehousing Express Logistics Pvt. Ltd.",
          "Kanti Trading Co.",
          "ServeXplus India Central Warehouse",
          "Warehousing India Warehouse",
          "international trading company",
          "Benevolence logistics",
          "Attar Logistics",
          "KAPOOR WAREHOUSING COMPANY",
          "Texla Warehouses",
          "Warehousing Express Logistics Pvt Ltd",
          "Self Storage India Warehouse",
          "SD Global Logistics India Pvt Ltd",
          "Warehousing Express Logistics Pvt. Ltd.",
          "Food Corporation of India",
          "FIL Industries Private Limited - Warehousing Division",
          "Warehousing Express Logistics Pvt Ltd",
          "Rinku godown",
          "Adorish India Private Limited",
          "Warehousity",
          "SS Marketing Services - Abbott India Jammu C&F",
          "Nahar Logistics Warehouse"
         ],
         "lat": [
          32.7158125,
          32.7158125,
          32.7158125,
          32.7158125,
          32.7158125,
          30.8230409,
          32.755902,
          32.755902,
          30.740799,
          30.8784197,
          28.4224869,
          31.5514845,
          28.4342435,
          32.6896118,
          28.5813752,
          28.5813752,
          32.6693663,
          32.6693663,
          32.6693663,
          30.8628947,
          30.8628947,
          29.1335651,
          28.5479757,
          28.5479757,
          28.5479757,
          33.6933886,
          33.9984565,
          28.5319261,
          32.4953824,
          28.5467672,
          28.5467672,
          32.7123242,
          32.7123242
         ],
         "legendgroup": "warehouses",
         "lon": [
          74.5528169,
          74.5528169,
          74.5528169,
          74.5528169,
          74.5528169,
          74.8452741,
          74.5374354,
          74.5374354,
          76.4766444,
          75.6194636,
          76.7326845,
          74.5860444,
          76.7029406,
          74.5538432,
          77.0167269,
          77.0167269,
          74.6073299,
          74.6073299,
          74.6073299,
          75.6208647,
          75.6208647,
          75.4479622,
          76.7259232,
          76.7259232,
          76.7259232,
          74.806247,
          74.4911368,
          77.1394284,
          74.927366,
          76.7234968,
          76.7234968,
          74.581253,
          74.581253
         ],
         "marker": {
          "color": "#636efa"
         },
         "mode": "markers",
         "name": "warehouses",
         "showlegend": true,
         "subplot": "mapbox",
         "type": "scattermapbox"
        },
        {
         "hovertemplate": "<b>%{hovertext}</b><br><br>type_of_place=malls<br>latitude=%{lat}<br>longitude=%{lon}<extra></extra>",
         "hovertext": [
          "Omaxe Mall",
          "Paras Downtown Square Mall",
          "Cosmo",
          "Bestech Square Mall",
          "Factory Outlet Store",
          "Jaggi city center",
          "Jaggi city center",
          "City Centre",
          "Dhillon Plaza",
          "VRC City Mall",
          "Nexus Elante Mall",
          "CP67 Mall Mohali",
          "VIP SHOPPING CENTRE",
          "VR Punjab",
          "IISER Mohali Shopping Complex",
          "BD Mall",
          "Galaxy World Shopping Mall",
          "Raj Kamal Square",
          "Lee Plaza Mall",
          "Panchkula Shopping Complex",
          "Buy low india",
          "THE OUTLET VILLAGE",
          "Sirhind City Centre",
          "Mohali walk",
          "AIPL Celebration Bazaar Khanna",
          "DLF Mall of India",
          "Singla Shopping Complex",
          "Ansal Plaza",
          "Shingari Complex",
          "Central Plaza",
          "SS Emporio Plaza",
          "ROSELYN SQUARE",
          "VR Ambarsar",
          "Crossroads Mall",
          "Elante",
          "Nabha One Mall",
          "Juneja square",
          "Vegas Mall"
         ],
         "lat": [
          30.337374,
          30.6599182,
          30.6599182,
          30.6599182,
          30.6599182,
          30.6599182,
          30.3681917,
          30.3429931,
          30.6199434,
          30.3398262,
          30.705717,
          30.705717,
          30.705717,
          30.705717,
          30.705717,
          30.3629937,
          30.37418,
          30.3439622,
          30.5235889,
          30.6547705,
          30.6547705,
          30.2526767,
          30.6408108,
          30.6968098,
          30.6861835,
          28.5673409,
          30.6286374,
          30.8980535,
          30.388312,
          30.6556755,
          30.6556755,
          30.6556755,
          31.6587242,
          30.3325375,
          30.7055235,
          30.3735712,
          30.6454165,
          28.6007474
         ],
         "legendgroup": "malls",
         "lon": [
          76.0894874,
          76.5169485,
          76.5169485,
          76.5169485,
          76.5169485,
          76.5169485,
          76.4944053,
          76.0735833,
          76.5183713,
          76.1280254,
          76.4960459,
          76.4960459,
          76.4960459,
          76.4960459,
          76.4960459,
          76.0663014,
          76.477204,
          76.0746498,
          75.5795405,
          76.5460162,
          76.5460162,
          75.6235874,
          76.0952112,
          76.4272271,
          75.9472958,
          77.0162597,
          76.0871294,
          75.5162768,
          76.4875883,
          76.3787388,
          76.3787388,
          76.3787388,
          74.5741012,
          77.7488418,
          76.4951738,
          75.8420846,
          76.496459,
          76.7247014
         ],
         "marker": {
          "color": "#EF553B"
         },
         "mode": "markers",
         "name": "malls",
         "showlegend": true,
         "subplot": "mapbox",
         "type": "scattermapbox"
        },
        {
         "hovertemplate": "<b>%{hovertext}</b><br><br>type_of_place=hospitals<br>latitude=%{lat}<br>longitude=%{lon}<extra></extra>",
         "hovertext": [
          "RED Ambulances - RED.Health Gurgaon",
          "Fortis Flt Lt Rajan Dhall Hospital, Vasant Kunj, New Delhi",
          "Primus Super Speciality Hospital",
          "Aakash Healthcare Super Speciality Hospital",
          "CK Birla Hospital, Gurgaon",
          "BLK-Max Super Speciality Hospital Delhi",
          "TARAK HOSPITAL INDIA PRIVATE LIMITED",
          "Max Super Speciality Hospital, Saket (Max Saket)",
          "THE SIGNATURE ADVANCED SUPER SPECIALITY HOSPITAL",
          "Aryan Hospital",
          "Park Hospital",
          "National Heart Institute",
          "Aarvy Healthcare Pvt Ltd.",
          "Aarvy Hospital - A unit of Medlix",
          "Venkateshwar Hospital",
          "Sheetla Hospital (Apollo Spectra Hospitals)",
          "Paras Hospitals, Gurgaon",
          "Phoenix Hospitals",
          "Suryadeep Hospital",
          "Gleneagles Global Hospitals' Information Centre",
          "Sargam Health Care (Multi Speciality Hospital)",
          "Sitaram Bhartia Institute of Science and Research",
          "Best Kidney Transplant Hospital in India",
          "Rescue Hospital",
          "Delhi Institute of Trauma & Orthopedics (DITO) - Best Orthopaedic Hospital in Delhi NCR India",
          "Best Spine Surgery Hospital in India",
          "Vibrant Hospital",
          "Lok Nayak Hospital",
          "Best Neuro Hospital in India | Top 10 Neurology Hospitals in India",
          "Fortis Hospital",
          "Liver Transplant in India | Best Liver Transplant Hospital in India",
          "Brahm Shakti Hospital",
          "Best Cancer Hospital in India",
          "My Care India | Medical Tourism | Health Tourism in India",
          "IHH Healthcare Singapore - India Office",
          "Fortis La Femme",
          "Charak Palika Hospital",
          "Best bone marrow transplant hospital in India",
          "Best Cancer Hospital in India",
          "Khadija National Hospital",
          "Dharma Vira Heart Centre | Sir Ganga Ram Hospital | Best Heart Care Hospital in | New Delhi | India |",
          "Best Gastroenterology Hospital in India"
         ],
         "lat": [
          28.6005481,
          28.6005481,
          28.6005481,
          28.6005481,
          28.6005481,
          28.6005481,
          28.6005481,
          28.6005481,
          28.6005481,
          28.6005481,
          28.6005481,
          28.5573003,
          28.4124268,
          28.4124268,
          28.4124268,
          28.4124268,
          28.4124268,
          28.5499518,
          28.5499518,
          28.5499518,
          28.5499518,
          28.5499518,
          28.5499518,
          28.5499518,
          28.5499518,
          28.5499518,
          28.466512,
          28.6389415,
          28.6389415,
          28.6389415,
          28.6389415,
          28.6389415,
          28.6389415,
          28.6389415,
          28.6389415,
          28.6389415,
          28.6389415,
          28.6389415,
          28.6389415,
          28.6389415,
          28.6389415,
          28.6389415
         ],
         "legendgroup": "hospitals",
         "lon": [
          76.7247005,
          76.7247005,
          76.7247005,
          76.7247005,
          76.7247005,
          76.7247005,
          76.7247005,
          76.7247005,
          76.7247005,
          76.7247005,
          76.7247005,
          76.9409217,
          76.6369597,
          76.6369597,
          76.6369597,
          76.6369597,
          76.6369597,
          76.9393796,
          76.9393796,
          76.9393796,
          76.9393796,
          76.9393796,
          76.9393796,
          76.9393796,
          76.9393796,
          76.9393796,
          76.6681656,
          76.9333178,
          76.9333178,
          76.9333178,
          76.9333178,
          76.9333178,
          76.9333178,
          76.9333178,
          76.9333178,
          76.9333178,
          76.9333178,
          76.9333178,
          76.9333178,
          76.9333178,
          76.9333178,
          76.9333178
         ],
         "marker": {
          "color": "#00cc96"
         },
         "mode": "markers",
         "name": "hospitals",
         "showlegend": true,
         "subplot": "mapbox",
         "type": "scattermapbox"
        },
        {
         "hovertemplate": "<b>%{hovertext}</b><br><br>type_of_place=parking-lots<br>latitude=%{lat}<br>longitude=%{lon}<extra></extra>",
         "hovertext": [
          "Hauz Khas Village Parking",
          "Spark - Automated Multilevel Car Parking - Kamlanagar",
          "Sarojini Multi Level Car Parking",
          "Noida Electronic City Metro Parking lot",
          "Metro Parking lot",
          "Tot Mall Car Parking",
          "Janpath Parking NDMC",
          "Zoya Car & Auto Parking Lot",
          "Botanical Garden Parking",
          "MG Road Metro Parking",
          "DLF Capitol Point",
          "Car Parking 2",
          "AIIMS Under Ground Parking",
          "Car Parking Pahadi Park.",
          "Central Vista Parking 2",
          "Rangmanch Farm Parking Lot",
          "Pearl omax parking lot",
          "Jia Sarai Parking",
          "Galleria Parking",
          "Free parking",
          "Metro Station Parking",
          "Metro Parking",
          "Trak Parking",
          "MCD Parking Rani Bagh Market",
          "DMRC Parking Kohat Enclave Metro Station Parking Gate Number 1-Pitampura - Park+"
         ],
         "lat": [
          28.6387421,
          28.6387421,
          28.6387421,
          28.6387421,
          28.6387421,
          28.6387421,
          28.6387421,
          28.6387421,
          28.6387421,
          28.6387421,
          28.6387421,
          28.6387421,
          28.6387421,
          28.6387421,
          28.6387421,
          28.4554893,
          28.6904938,
          28.6904938,
          28.6904938,
          28.6904938,
          28.6904938,
          28.6904938,
          28.6904938,
          28.6904938,
          28.6904938
         ],
         "legendgroup": "parking-lots",
         "lon": [
          76.9333169,
          76.9333169,
          76.9333169,
          76.9333169,
          76.9333169,
          76.9333169,
          76.9333169,
          76.9333169,
          76.9333169,
          76.9333169,
          76.9333169,
          76.9333169,
          76.9333169,
          76.9333169,
          76.9333169,
          76.6169954,
          76.8476936,
          76.8476936,
          76.8476936,
          76.8476936,
          76.8476936,
          76.8476936,
          76.8476936,
          76.8476936,
          76.8476936
         ],
         "marker": {
          "color": "#ab63fa"
         },
         "mode": "markers",
         "name": "parking-lots",
         "showlegend": true,
         "subplot": "mapbox",
         "type": "scattermapbox"
        },
        {
         "hovertemplate": "<b>%{hovertext}</b><br><br>type_of_place=schools<br>latitude=%{lat}<br>longitude=%{lon}<extra></extra>",
         "hovertext": [
          "The Indian School",
          "Manava Bharati India International School",
          "Indirapuram Public School",
          "Global Indian International School",
          "Indian Heritage School",
          "Lotus Valley International school",
          "Modern School",
          "St. Columba's School",
          "Indian Public School",
          "De Indian Public School, Rohini",
          "Don Bosco School",
          "The Shri Ram School",
          "Colonel Satsangi's Kiran Memorial Public School",
          "Great india Public school",
          "Delhi Public School Vasant Kunj",
          "Vasant Valley School",
          "ASN International School",
          "Bluebells School International",
          "The Indian Heights School Dwarka",
          "Richmondd Global School",
          "St. Xavier's Senior Secondary School",
          "Great India International School",
          "Guru Harkrishn Public School",
          "Pathways School Noida",
          "Bal Bharati Public School",
          "GD Goenka Public School",
          "Indian National Public School",
          "Bal Bhavan International School",
          "Kings College India - Rohtak",
          "G.D Goenka Public School",
          "LALIT MAHAJAN SVM SR. SEC. SCHOOL",
          "Cyboard School",
          "THE ARDEE SCHOOL, New Friends Colony",
          "Mother India Senior Secondary School",
          "Government Boys Senior Secondary School",
          "Sheffield School Ashok Vihar",
          "Pratibha International School",
          "Adarsh Vidya Niketan Public School",
          "Sunrise India Public School"
         ],
         "lat": [
          28.6902941,
          28.6902941,
          28.6902941,
          28.5920346,
          28.5920346,
          28.5920346,
          28.5920346,
          28.5920346,
          28.5920346,
          28.7291172,
          28.7291172,
          28.7291172,
          28.4736157,
          28.4736157,
          28.4736157,
          28.4736157,
          28.4736157,
          28.4736157,
          28.4736157,
          28.4736157,
          28.6789777,
          28.6789777,
          28.6789777,
          28.5424799,
          28.5956105,
          28.5956105,
          28.5833672,
          28.5953581,
          28.909752,
          28.5285097,
          28.5285097,
          28.5285097,
          28.5285097,
          28.6010574,
          28.6052615,
          28.6052615,
          28.6052615,
          28.6052615,
          28.6052615
         ],
         "legendgroup": "schools",
         "lon": [
          76.8476927,
          76.8476927,
          76.8476927,
          77.0742925,
          77.0742925,
          77.0742925,
          77.0742925,
          77.0742925,
          77.0742925,
          76.7828486,
          76.7828486,
          76.7828486,
          76.9018103,
          76.9018103,
          76.9018103,
          76.9018103,
          76.9018103,
          76.9018103,
          76.9018103,
          76.9018103,
          76.7802334,
          76.7802334,
          76.7802334,
          77.0616675,
          76.7350778,
          76.7350778,
          77.0285179,
          76.7375916,
          76.312164,
          76.8499198,
          76.8499198,
          76.8499198,
          76.8499198,
          76.2499679,
          76.9289347,
          76.9289347,
          76.9289347,
          76.9289347,
          76.9289347
         ],
         "marker": {
          "color": "#FFA15A"
         },
         "mode": "markers",
         "name": "schools",
         "showlegend": true,
         "subplot": "mapbox",
         "type": "scattermapbox"
        },
        {
         "hovertemplate": "<b>%{hovertext}</b><br><br>type_of_place=Universities<br>latitude=%{lat}<br>longitude=%{lon}<extra></extra>",
         "hovertext": [
          "University of Delhi",
          "Jawaharlal Nehru University",
          "Sushant University",
          "Lingaya's Vidyapeeth",
          "Indraprastha Institute of Information Technology Delhi",
          "The NorthCap University",
          "SGT University",
          "Dr. B. R. Ambedkar University Delhi",
          "Indian Institute Of Technology Delhi (IIT Delhi)",
          "Manav Rachna International Institute Of Research And Studies",
          "National Law University, Delhi",
          "PDM University",
          "The Central Sanskrit University - New Delhi, India",
          "JAYPEE INSTITUTE OF INFORMATION TECHNOLOGY",
          "Indira Gandhi National Open University",
          "Maharishi University of Information Technology Noida",
          "Jamia Hamdard University",
          "CollegeSakha - Top Colleges, Universities & Institutes in india",
          "The University of Chicago Center in Delhi",
          "Guru Gobind Singh Indraprastha University",
          "Deakin University South Asia",
          "University of Delhi",
          "Indian Law Institute",
          "NIEPA",
          "Indian Institute of Heritage (National Museum Institute)(NOIDA CAMPUS)",
          "ICFAI University, Sikkim",
          "Northumbria University India Office",
          "University of Delhi, Department of Modern Indian Language And Literary Studies",
          "Guru Gobind Singh Indraprastha University (East Delhi Campus)",
          "Netaji Subhas University of Technology",
          "Indira Gandhi Delhi Technical University for Women",
          "Best MBA College in Noida, Delhi NCR | Jaipuria Institute of Management, Noida",
          "All India Institute Of Medical Sciences Delhi",
          "Jamia Millia Islamia",
          "Lovely Professional University, Punjab",
          "RGI Gurgaon : MBA Colleges India",
          "La Trobe International India",
          "Arunachal Universities Of Studies",
          "Delhi Skill and Entrepreneurship University",
          "School of Planning and Architecture (SPA)",
          "India of colleges"
         ],
         "lat": [
          28.6050622,
          28.6050622,
          28.6050622,
          28.6050622,
          28.6050622,
          28.6050622,
          28.4817689,
          28.4817689,
          28.6626609,
          28.6626609,
          28.5996751,
          28.5996751,
          28.5996751,
          28.631209,
          28.631209,
          28.631209,
          28.631209,
          28.631209,
          28.631209,
          28.5946224,
          28.5946224,
          28.5946224,
          28.6196718,
          28.6196718,
          28.6196718,
          28.6196718,
          28.6196718,
          28.6196718,
          28.6196718,
          28.6196718,
          28.6196718,
          28.6196718,
          28.6196718,
          28.6196718,
          28.6196718,
          28.4396338,
          28.5917857,
          28.5917857,
          28.5824457,
          28.5824457,
          28.5824457
         ],
         "legendgroup": "Universities",
         "lon": [
          76.9289338,
          76.9289338,
          76.9289338,
          76.9289338,
          76.9289338,
          76.9289338,
          76.6023073,
          76.6023073,
          76.9290558,
          76.9290558,
          76.7183816,
          76.7183816,
          76.7183816,
          77.0660378,
          77.0660378,
          77.0660378,
          77.0660378,
          77.0660378,
          77.0660378,
          76.7165352,
          76.7165352,
          76.7165352,
          76.9336746,
          76.9336746,
          76.9336746,
          76.9336746,
          76.9336746,
          76.9336746,
          76.9336746,
          76.9336746,
          76.9336746,
          76.9336746,
          76.9336746,
          76.9336746,
          76.9336746,
          76.7078246,
          76.9920785,
          76.9920785,
          76.7577962,
          76.7577962,
          76.7577962
         ],
         "marker": {
          "color": "#19d3f3"
         },
         "mode": "markers",
         "name": "Universities",
         "showlegend": true,
         "subplot": "mapbox",
         "type": "scattermapbox"
        }
       ],
       "layout": {
        "height": 600,
        "legend": {
         "title": {
          "text": "type_of_place"
         },
         "tracegroupgap": 0
        },
        "mapbox": {
         "center": {
          "lat": 29.306090953669727,
          "lon": 76.55794656055046
         },
         "domain": {
          "x": [
           0,
           1
          ],
          "y": [
           0,
           1
          ]
         },
         "style": "open-street-map",
         "zoom": 5
        },
        "margin": {
         "t": 60
        },
        "template": {
         "data": {
          "bar": [
           {
            "error_x": {
             "color": "#2a3f5f"
            },
            "error_y": {
             "color": "#2a3f5f"
            },
            "marker": {
             "line": {
              "color": "#E5ECF6",
              "width": 0.5
             },
             "pattern": {
              "fillmode": "overlay",
              "size": 10,
              "solidity": 0.2
             }
            },
            "type": "bar"
           }
          ],
          "barpolar": [
           {
            "marker": {
             "line": {
              "color": "#E5ECF6",
              "width": 0.5
             },
             "pattern": {
              "fillmode": "overlay",
              "size": 10,
              "solidity": 0.2
             }
            },
            "type": "barpolar"
           }
          ],
          "carpet": [
           {
            "aaxis": {
             "endlinecolor": "#2a3f5f",
             "gridcolor": "white",
             "linecolor": "white",
             "minorgridcolor": "white",
             "startlinecolor": "#2a3f5f"
            },
            "baxis": {
             "endlinecolor": "#2a3f5f",
             "gridcolor": "white",
             "linecolor": "white",
             "minorgridcolor": "white",
             "startlinecolor": "#2a3f5f"
            },
            "type": "carpet"
           }
          ],
          "choropleth": [
           {
            "colorbar": {
             "outlinewidth": 0,
             "ticks": ""
            },
            "type": "choropleth"
           }
          ],
          "contour": [
           {
            "colorbar": {
             "outlinewidth": 0,
             "ticks": ""
            },
            "colorscale": [
             [
              0,
              "#0d0887"
             ],
             [
              0.1111111111111111,
              "#46039f"
             ],
             [
              0.2222222222222222,
              "#7201a8"
             ],
             [
              0.3333333333333333,
              "#9c179e"
             ],
             [
              0.4444444444444444,
              "#bd3786"
             ],
             [
              0.5555555555555556,
              "#d8576b"
             ],
             [
              0.6666666666666666,
              "#ed7953"
             ],
             [
              0.7777777777777778,
              "#fb9f3a"
             ],
             [
              0.8888888888888888,
              "#fdca26"
             ],
             [
              1,
              "#f0f921"
             ]
            ],
            "type": "contour"
           }
          ],
          "contourcarpet": [
           {
            "colorbar": {
             "outlinewidth": 0,
             "ticks": ""
            },
            "type": "contourcarpet"
           }
          ],
          "heatmap": [
           {
            "colorbar": {
             "outlinewidth": 0,
             "ticks": ""
            },
            "colorscale": [
             [
              0,
              "#0d0887"
             ],
             [
              0.1111111111111111,
              "#46039f"
             ],
             [
              0.2222222222222222,
              "#7201a8"
             ],
             [
              0.3333333333333333,
              "#9c179e"
             ],
             [
              0.4444444444444444,
              "#bd3786"
             ],
             [
              0.5555555555555556,
              "#d8576b"
             ],
             [
              0.6666666666666666,
              "#ed7953"
             ],
             [
              0.7777777777777778,
              "#fb9f3a"
             ],
             [
              0.8888888888888888,
              "#fdca26"
             ],
             [
              1,
              "#f0f921"
             ]
            ],
            "type": "heatmap"
           }
          ],
          "heatmapgl": [
           {
            "colorbar": {
             "outlinewidth": 0,
             "ticks": ""
            },
            "colorscale": [
             [
              0,
              "#0d0887"
             ],
             [
              0.1111111111111111,
              "#46039f"
             ],
             [
              0.2222222222222222,
              "#7201a8"
             ],
             [
              0.3333333333333333,
              "#9c179e"
             ],
             [
              0.4444444444444444,
              "#bd3786"
             ],
             [
              0.5555555555555556,
              "#d8576b"
             ],
             [
              0.6666666666666666,
              "#ed7953"
             ],
             [
              0.7777777777777778,
              "#fb9f3a"
             ],
             [
              0.8888888888888888,
              "#fdca26"
             ],
             [
              1,
              "#f0f921"
             ]
            ],
            "type": "heatmapgl"
           }
          ],
          "histogram": [
           {
            "marker": {
             "pattern": {
              "fillmode": "overlay",
              "size": 10,
              "solidity": 0.2
             }
            },
            "type": "histogram"
           }
          ],
          "histogram2d": [
           {
            "colorbar": {
             "outlinewidth": 0,
             "ticks": ""
            },
            "colorscale": [
             [
              0,
              "#0d0887"
             ],
             [
              0.1111111111111111,
              "#46039f"
             ],
             [
              0.2222222222222222,
              "#7201a8"
             ],
             [
              0.3333333333333333,
              "#9c179e"
             ],
             [
              0.4444444444444444,
              "#bd3786"
             ],
             [
              0.5555555555555556,
              "#d8576b"
             ],
             [
              0.6666666666666666,
              "#ed7953"
             ],
             [
              0.7777777777777778,
              "#fb9f3a"
             ],
             [
              0.8888888888888888,
              "#fdca26"
             ],
             [
              1,
              "#f0f921"
             ]
            ],
            "type": "histogram2d"
           }
          ],
          "histogram2dcontour": [
           {
            "colorbar": {
             "outlinewidth": 0,
             "ticks": ""
            },
            "colorscale": [
             [
              0,
              "#0d0887"
             ],
             [
              0.1111111111111111,
              "#46039f"
             ],
             [
              0.2222222222222222,
              "#7201a8"
             ],
             [
              0.3333333333333333,
              "#9c179e"
             ],
             [
              0.4444444444444444,
              "#bd3786"
             ],
             [
              0.5555555555555556,
              "#d8576b"
             ],
             [
              0.6666666666666666,
              "#ed7953"
             ],
             [
              0.7777777777777778,
              "#fb9f3a"
             ],
             [
              0.8888888888888888,
              "#fdca26"
             ],
             [
              1,
              "#f0f921"
             ]
            ],
            "type": "histogram2dcontour"
           }
          ],
          "mesh3d": [
           {
            "colorbar": {
             "outlinewidth": 0,
             "ticks": ""
            },
            "type": "mesh3d"
           }
          ],
          "parcoords": [
           {
            "line": {
             "colorbar": {
              "outlinewidth": 0,
              "ticks": ""
             }
            },
            "type": "parcoords"
           }
          ],
          "pie": [
           {
            "automargin": true,
            "type": "pie"
           }
          ],
          "scatter": [
           {
            "fillpattern": {
             "fillmode": "overlay",
             "size": 10,
             "solidity": 0.2
            },
            "type": "scatter"
           }
          ],
          "scatter3d": [
           {
            "line": {
             "colorbar": {
              "outlinewidth": 0,
              "ticks": ""
             }
            },
            "marker": {
             "colorbar": {
              "outlinewidth": 0,
              "ticks": ""
             }
            },
            "type": "scatter3d"
           }
          ],
          "scattercarpet": [
           {
            "marker": {
             "colorbar": {
              "outlinewidth": 0,
              "ticks": ""
             }
            },
            "type": "scattercarpet"
           }
          ],
          "scattergeo": [
           {
            "marker": {
             "colorbar": {
              "outlinewidth": 0,
              "ticks": ""
             }
            },
            "type": "scattergeo"
           }
          ],
          "scattergl": [
           {
            "marker": {
             "colorbar": {
              "outlinewidth": 0,
              "ticks": ""
             }
            },
            "type": "scattergl"
           }
          ],
          "scattermapbox": [
           {
            "marker": {
             "colorbar": {
              "outlinewidth": 0,
              "ticks": ""
             }
            },
            "type": "scattermapbox"
           }
          ],
          "scatterpolar": [
           {
            "marker": {
             "colorbar": {
              "outlinewidth": 0,
              "ticks": ""
             }
            },
            "type": "scatterpolar"
           }
          ],
          "scatterpolargl": [
           {
            "marker": {
             "colorbar": {
              "outlinewidth": 0,
              "ticks": ""
             }
            },
            "type": "scatterpolargl"
           }
          ],
          "scatterternary": [
           {
            "marker": {
             "colorbar": {
              "outlinewidth": 0,
              "ticks": ""
             }
            },
            "type": "scatterternary"
           }
          ],
          "surface": [
           {
            "colorbar": {
             "outlinewidth": 0,
             "ticks": ""
            },
            "colorscale": [
             [
              0,
              "#0d0887"
             ],
             [
              0.1111111111111111,
              "#46039f"
             ],
             [
              0.2222222222222222,
              "#7201a8"
             ],
             [
              0.3333333333333333,
              "#9c179e"
             ],
             [
              0.4444444444444444,
              "#bd3786"
             ],
             [
              0.5555555555555556,
              "#d8576b"
             ],
             [
              0.6666666666666666,
              "#ed7953"
             ],
             [
              0.7777777777777778,
              "#fb9f3a"
             ],
             [
              0.8888888888888888,
              "#fdca26"
             ],
             [
              1,
              "#f0f921"
             ]
            ],
            "type": "surface"
           }
          ],
          "table": [
           {
            "cells": {
             "fill": {
              "color": "#EBF0F8"
             },
             "line": {
              "color": "white"
             }
            },
            "header": {
             "fill": {
              "color": "#C8D4E3"
             },
             "line": {
              "color": "white"
             }
            },
            "type": "table"
           }
          ]
         },
         "layout": {
          "annotationdefaults": {
           "arrowcolor": "#2a3f5f",
           "arrowhead": 0,
           "arrowwidth": 1
          },
          "autotypenumbers": "strict",
          "coloraxis": {
           "colorbar": {
            "outlinewidth": 0,
            "ticks": ""
           }
          },
          "colorscale": {
           "diverging": [
            [
             0,
             "#8e0152"
            ],
            [
             0.1,
             "#c51b7d"
            ],
            [
             0.2,
             "#de77ae"
            ],
            [
             0.3,
             "#f1b6da"
            ],
            [
             0.4,
             "#fde0ef"
            ],
            [
             0.5,
             "#f7f7f7"
            ],
            [
             0.6,
             "#e6f5d0"
            ],
            [
             0.7,
             "#b8e186"
            ],
            [
             0.8,
             "#7fbc41"
            ],
            [
             0.9,
             "#4d9221"
            ],
            [
             1,
             "#276419"
            ]
           ],
           "sequential": [
            [
             0,
             "#0d0887"
            ],
            [
             0.1111111111111111,
             "#46039f"
            ],
            [
             0.2222222222222222,
             "#7201a8"
            ],
            [
             0.3333333333333333,
             "#9c179e"
            ],
            [
             0.4444444444444444,
             "#bd3786"
            ],
            [
             0.5555555555555556,
             "#d8576b"
            ],
            [
             0.6666666666666666,
             "#ed7953"
            ],
            [
             0.7777777777777778,
             "#fb9f3a"
            ],
            [
             0.8888888888888888,
             "#fdca26"
            ],
            [
             1,
             "#f0f921"
            ]
           ],
           "sequentialminus": [
            [
             0,
             "#0d0887"
            ],
            [
             0.1111111111111111,
             "#46039f"
            ],
            [
             0.2222222222222222,
             "#7201a8"
            ],
            [
             0.3333333333333333,
             "#9c179e"
            ],
            [
             0.4444444444444444,
             "#bd3786"
            ],
            [
             0.5555555555555556,
             "#d8576b"
            ],
            [
             0.6666666666666666,
             "#ed7953"
            ],
            [
             0.7777777777777778,
             "#fb9f3a"
            ],
            [
             0.8888888888888888,
             "#fdca26"
            ],
            [
             1,
             "#f0f921"
            ]
           ]
          },
          "colorway": [
           "#636efa",
           "#EF553B",
           "#00cc96",
           "#ab63fa",
           "#FFA15A",
           "#19d3f3",
           "#FF6692",
           "#B6E880",
           "#FF97FF",
           "#FECB52"
          ],
          "font": {
           "color": "#2a3f5f"
          },
          "geo": {
           "bgcolor": "white",
           "lakecolor": "white",
           "landcolor": "#E5ECF6",
           "showlakes": true,
           "showland": true,
           "subunitcolor": "white"
          },
          "hoverlabel": {
           "align": "left"
          },
          "hovermode": "closest",
          "mapbox": {
           "style": "light"
          },
          "paper_bgcolor": "white",
          "plot_bgcolor": "#E5ECF6",
          "polar": {
           "angularaxis": {
            "gridcolor": "white",
            "linecolor": "white",
            "ticks": ""
           },
           "bgcolor": "#E5ECF6",
           "radialaxis": {
            "gridcolor": "white",
            "linecolor": "white",
            "ticks": ""
           }
          },
          "scene": {
           "xaxis": {
            "backgroundcolor": "#E5ECF6",
            "gridcolor": "white",
            "gridwidth": 2,
            "linecolor": "white",
            "showbackground": true,
            "ticks": "",
            "zerolinecolor": "white"
           },
           "yaxis": {
            "backgroundcolor": "#E5ECF6",
            "gridcolor": "white",
            "gridwidth": 2,
            "linecolor": "white",
            "showbackground": true,
            "ticks": "",
            "zerolinecolor": "white"
           },
           "zaxis": {
            "backgroundcolor": "#E5ECF6",
            "gridcolor": "white",
            "gridwidth": 2,
            "linecolor": "white",
            "showbackground": true,
            "ticks": "",
            "zerolinecolor": "white"
           }
          },
          "shapedefaults": {
           "line": {
            "color": "#2a3f5f"
           }
          },
          "ternary": {
           "aaxis": {
            "gridcolor": "white",
            "linecolor": "white",
            "ticks": ""
           },
           "baxis": {
            "gridcolor": "white",
            "linecolor": "white",
            "ticks": ""
           },
           "bgcolor": "#E5ECF6",
           "caxis": {
            "gridcolor": "white",
            "linecolor": "white",
            "ticks": ""
           }
          },
          "title": {
           "x": 0.05
          },
          "xaxis": {
           "automargin": true,
           "gridcolor": "white",
           "linecolor": "white",
           "ticks": "",
           "title": {
            "standoff": 15
           },
           "zerolinecolor": "white",
           "zerolinewidth": 2
          },
          "yaxis": {
           "automargin": true,
           "gridcolor": "white",
           "linecolor": "white",
           "ticks": "",
           "title": {
            "standoff": 15
           },
           "zerolinecolor": "white",
           "zerolinewidth": 2
          }
         }
        },
        "width": 800
       }
      },
      "text/html": [
       "<div>                            <div id=\"73046d9b-b1c9-43ea-bae6-bc3979f6f5d3\" class=\"plotly-graph-div\" style=\"height:600px; width:800px;\"></div>            <script type=\"text/javascript\">                require([\"plotly\"], function(Plotly) {                    window.PLOTLYENV=window.PLOTLYENV || {};                                    if (document.getElementById(\"73046d9b-b1c9-43ea-bae6-bc3979f6f5d3\")) {                    Plotly.newPlot(                        \"73046d9b-b1c9-43ea-bae6-bc3979f6f5d3\",                        [{\"hovertemplate\":\"<b>%{hovertext}</b><br><br>type_of_place=warehouses<br>latitude=%{lat}<br>longitude=%{lon}<extra></extra>\",\"hovertext\":[\"Akhil India private limited 91-C warehouse jammu\",\"Safari Industries India Ltd\",\"VI Warehouse Jammu\",\"FastBeetle Warehouse Jammu\",\"Rani Bagh Warehouse\",\"Centre warehouse corporation ( FOOD CORPORATION OF INDIA ) MOGA - 2 (Base)\",\"Central warehousing corporation\",\"ware house,steel authority of india limited\",\"Xplent | On-Demand Warehouse - Buy, Sale, Lease & Rent Warehouse or Godown in India\",\"Punjab State Warehousing Corporation\",\"Warehousing Express Logistics Pvt. Ltd.\",\"Amritsar Warehouse Solutions\",\"Warehousing Express Logistics Pvt. Ltd.\",\"Kanti Trading Co.\",\"ServeXplus India Central Warehouse\",\"Warehousing India Warehouse\",\"international trading company\",\"Benevolence logistics\",\"Attar Logistics\",\"KAPOOR WAREHOUSING COMPANY\",\"Texla Warehouses\",\"Warehousing Express Logistics Pvt Ltd\",\"Self Storage India Warehouse\",\"SD Global Logistics India Pvt Ltd\",\"Warehousing Express Logistics Pvt. Ltd.\",\"Food Corporation of India\",\"FIL Industries Private Limited - Warehousing Division\",\"Warehousing Express Logistics Pvt Ltd\",\"Rinku godown\",\"Adorish India Private Limited\",\"Warehousity\",\"SS Marketing Services - Abbott India Jammu C&F\",\"Nahar Logistics Warehouse\"],\"lat\":[32.7158125,32.7158125,32.7158125,32.7158125,32.7158125,30.8230409,32.755902,32.755902,30.740799,30.8784197,28.4224869,31.5514845,28.4342435,32.6896118,28.5813752,28.5813752,32.6693663,32.6693663,32.6693663,30.8628947,30.8628947,29.1335651,28.5479757,28.5479757,28.5479757,33.6933886,33.9984565,28.5319261,32.4953824,28.5467672,28.5467672,32.7123242,32.7123242],\"legendgroup\":\"warehouses\",\"lon\":[74.5528169,74.5528169,74.5528169,74.5528169,74.5528169,74.8452741,74.5374354,74.5374354,76.4766444,75.6194636,76.7326845,74.5860444,76.7029406,74.5538432,77.0167269,77.0167269,74.6073299,74.6073299,74.6073299,75.6208647,75.6208647,75.4479622,76.7259232,76.7259232,76.7259232,74.806247,74.4911368,77.1394284,74.927366,76.7234968,76.7234968,74.581253,74.581253],\"marker\":{\"color\":\"#636efa\"},\"mode\":\"markers\",\"name\":\"warehouses\",\"showlegend\":true,\"subplot\":\"mapbox\",\"type\":\"scattermapbox\"},{\"hovertemplate\":\"<b>%{hovertext}</b><br><br>type_of_place=malls<br>latitude=%{lat}<br>longitude=%{lon}<extra></extra>\",\"hovertext\":[\"Omaxe Mall\",\"Paras Downtown Square Mall\",\"Cosmo\",\"Bestech Square Mall\",\"Factory Outlet Store\",\"Jaggi city center\",\"Jaggi city center\",\"City Centre\",\"Dhillon Plaza\",\"VRC City Mall\",\"Nexus Elante Mall\",\"CP67 Mall Mohali\",\"VIP SHOPPING CENTRE\",\"VR Punjab\",\"IISER Mohali Shopping Complex\",\"BD Mall\",\"Galaxy World Shopping Mall\",\"Raj Kamal Square\",\"Lee Plaza Mall\",\"Panchkula Shopping Complex\",\"Buy low india\",\"THE OUTLET VILLAGE\",\"Sirhind City Centre\",\"Mohali walk\",\"AIPL Celebration Bazaar Khanna\",\"DLF Mall of India\",\"Singla Shopping Complex\",\"Ansal Plaza\",\"Shingari Complex\",\"Central Plaza\",\"SS Emporio Plaza\",\"ROSELYN SQUARE\",\"VR Ambarsar\",\"Crossroads Mall\",\"Elante\",\"Nabha One Mall\",\"Juneja square\",\"Vegas Mall\"],\"lat\":[30.337374,30.6599182,30.6599182,30.6599182,30.6599182,30.6599182,30.3681917,30.3429931,30.6199434,30.3398262,30.705717,30.705717,30.705717,30.705717,30.705717,30.3629937,30.37418,30.3439622,30.5235889,30.6547705,30.6547705,30.2526767,30.6408108,30.6968098,30.6861835,28.5673409,30.6286374,30.8980535,30.388312,30.6556755,30.6556755,30.6556755,31.6587242,30.3325375,30.7055235,30.3735712,30.6454165,28.6007474],\"legendgroup\":\"malls\",\"lon\":[76.0894874,76.5169485,76.5169485,76.5169485,76.5169485,76.5169485,76.4944053,76.0735833,76.5183713,76.1280254,76.4960459,76.4960459,76.4960459,76.4960459,76.4960459,76.0663014,76.477204,76.0746498,75.5795405,76.5460162,76.5460162,75.6235874,76.0952112,76.4272271,75.9472958,77.0162597,76.0871294,75.5162768,76.4875883,76.3787388,76.3787388,76.3787388,74.5741012,77.7488418,76.4951738,75.8420846,76.496459,76.7247014],\"marker\":{\"color\":\"#EF553B\"},\"mode\":\"markers\",\"name\":\"malls\",\"showlegend\":true,\"subplot\":\"mapbox\",\"type\":\"scattermapbox\"},{\"hovertemplate\":\"<b>%{hovertext}</b><br><br>type_of_place=hospitals<br>latitude=%{lat}<br>longitude=%{lon}<extra></extra>\",\"hovertext\":[\"RED Ambulances - RED.Health Gurgaon\",\"Fortis Flt Lt Rajan Dhall Hospital, Vasant Kunj, New Delhi\",\"Primus Super Speciality Hospital\",\"Aakash Healthcare Super Speciality Hospital\",\"CK Birla Hospital, Gurgaon\",\"BLK-Max Super Speciality Hospital Delhi\",\"TARAK HOSPITAL INDIA PRIVATE LIMITED\",\"Max Super Speciality Hospital, Saket (Max Saket)\",\"THE SIGNATURE ADVANCED SUPER SPECIALITY HOSPITAL\",\"Aryan Hospital\",\"Park Hospital\",\"National Heart Institute\",\"Aarvy Healthcare Pvt Ltd.\",\"Aarvy Hospital - A unit of Medlix\",\"Venkateshwar Hospital\",\"Sheetla Hospital (Apollo Spectra Hospitals)\",\"Paras Hospitals, Gurgaon\",\"Phoenix Hospitals\",\"Suryadeep Hospital\",\"Gleneagles Global Hospitals' Information Centre\",\"Sargam Health Care (Multi Speciality Hospital)\",\"Sitaram Bhartia Institute of Science and Research\",\"Best Kidney Transplant Hospital in India\",\"Rescue Hospital\",\"Delhi Institute of Trauma & Orthopedics (DITO) - Best Orthopaedic Hospital in Delhi NCR India\",\"Best Spine Surgery Hospital in India\",\"Vibrant Hospital\",\"Lok Nayak Hospital\",\"Best Neuro Hospital in India | Top 10 Neurology Hospitals in India\",\"Fortis Hospital\",\"Liver Transplant in India | Best Liver Transplant Hospital in India\",\"Brahm Shakti Hospital\",\"Best Cancer Hospital in India\",\"My Care India | Medical Tourism | Health Tourism in India\",\"IHH Healthcare Singapore - India Office\",\"Fortis La Femme\",\"Charak Palika Hospital\",\"Best bone marrow transplant hospital in India\",\"Best Cancer Hospital in India\",\"Khadija National Hospital\",\"Dharma Vira Heart Centre | Sir Ganga Ram Hospital | Best Heart Care Hospital in | New Delhi | India |\",\"Best Gastroenterology Hospital in India\"],\"lat\":[28.6005481,28.6005481,28.6005481,28.6005481,28.6005481,28.6005481,28.6005481,28.6005481,28.6005481,28.6005481,28.6005481,28.5573003,28.4124268,28.4124268,28.4124268,28.4124268,28.4124268,28.5499518,28.5499518,28.5499518,28.5499518,28.5499518,28.5499518,28.5499518,28.5499518,28.5499518,28.466512,28.6389415,28.6389415,28.6389415,28.6389415,28.6389415,28.6389415,28.6389415,28.6389415,28.6389415,28.6389415,28.6389415,28.6389415,28.6389415,28.6389415,28.6389415],\"legendgroup\":\"hospitals\",\"lon\":[76.7247005,76.7247005,76.7247005,76.7247005,76.7247005,76.7247005,76.7247005,76.7247005,76.7247005,76.7247005,76.7247005,76.9409217,76.6369597,76.6369597,76.6369597,76.6369597,76.6369597,76.9393796,76.9393796,76.9393796,76.9393796,76.9393796,76.9393796,76.9393796,76.9393796,76.9393796,76.6681656,76.9333178,76.9333178,76.9333178,76.9333178,76.9333178,76.9333178,76.9333178,76.9333178,76.9333178,76.9333178,76.9333178,76.9333178,76.9333178,76.9333178,76.9333178],\"marker\":{\"color\":\"#00cc96\"},\"mode\":\"markers\",\"name\":\"hospitals\",\"showlegend\":true,\"subplot\":\"mapbox\",\"type\":\"scattermapbox\"},{\"hovertemplate\":\"<b>%{hovertext}</b><br><br>type_of_place=parking-lots<br>latitude=%{lat}<br>longitude=%{lon}<extra></extra>\",\"hovertext\":[\"Hauz Khas Village Parking\",\"Spark - Automated Multilevel Car Parking - Kamlanagar\",\"Sarojini Multi Level Car Parking\",\"Noida Electronic City Metro Parking lot\",\"Metro Parking lot\",\"Tot Mall Car Parking\",\"Janpath Parking NDMC\",\"Zoya Car & Auto Parking Lot\",\"Botanical Garden Parking\",\"MG Road Metro Parking\",\"DLF Capitol Point\",\"Car Parking 2\",\"AIIMS Under Ground Parking\",\"Car Parking Pahadi Park.\",\"Central Vista Parking 2\",\"Rangmanch Farm Parking Lot\",\"Pearl omax parking lot\",\"Jia Sarai Parking\",\"Galleria Parking\",\"Free parking\",\"Metro Station Parking\",\"Metro Parking\",\"Trak Parking\",\"MCD Parking Rani Bagh Market\",\"DMRC Parking Kohat Enclave Metro Station Parking Gate Number 1-Pitampura - Park+\"],\"lat\":[28.6387421,28.6387421,28.6387421,28.6387421,28.6387421,28.6387421,28.6387421,28.6387421,28.6387421,28.6387421,28.6387421,28.6387421,28.6387421,28.6387421,28.6387421,28.4554893,28.6904938,28.6904938,28.6904938,28.6904938,28.6904938,28.6904938,28.6904938,28.6904938,28.6904938],\"legendgroup\":\"parking-lots\",\"lon\":[76.9333169,76.9333169,76.9333169,76.9333169,76.9333169,76.9333169,76.9333169,76.9333169,76.9333169,76.9333169,76.9333169,76.9333169,76.9333169,76.9333169,76.9333169,76.6169954,76.8476936,76.8476936,76.8476936,76.8476936,76.8476936,76.8476936,76.8476936,76.8476936,76.8476936],\"marker\":{\"color\":\"#ab63fa\"},\"mode\":\"markers\",\"name\":\"parking-lots\",\"showlegend\":true,\"subplot\":\"mapbox\",\"type\":\"scattermapbox\"},{\"hovertemplate\":\"<b>%{hovertext}</b><br><br>type_of_place=schools<br>latitude=%{lat}<br>longitude=%{lon}<extra></extra>\",\"hovertext\":[\"The Indian School\",\"Manava Bharati India International School\",\"Indirapuram Public School\",\"Global Indian International School\",\"Indian Heritage School\",\"Lotus Valley International school\",\"Modern School\",\"St. Columba's School\",\"Indian Public School\",\"De Indian Public School, Rohini\",\"Don Bosco School\",\"The Shri Ram School\",\"Colonel Satsangi's Kiran Memorial Public School\",\"Great india Public school\",\"Delhi Public School Vasant Kunj\",\"Vasant Valley School\",\"ASN International School\",\"Bluebells School International\",\"The Indian Heights School Dwarka\",\"Richmondd Global School\",\"St. Xavier's Senior Secondary School\",\"Great India International School\",\"Guru Harkrishn Public School\",\"Pathways School Noida\",\"Bal Bharati Public School\",\"GD Goenka Public School\",\"Indian National Public School\",\"Bal Bhavan International School\",\"Kings College India - Rohtak\",\"G.D Goenka Public School\",\"LALIT MAHAJAN SVM SR. SEC. SCHOOL\",\"Cyboard School\",\"THE ARDEE SCHOOL, New Friends Colony\",\"Mother India Senior Secondary School\",\"Government Boys Senior Secondary School\",\"Sheffield School Ashok Vihar\",\"Pratibha International School\",\"Adarsh Vidya Niketan Public School\",\"Sunrise India Public School\"],\"lat\":[28.6902941,28.6902941,28.6902941,28.5920346,28.5920346,28.5920346,28.5920346,28.5920346,28.5920346,28.7291172,28.7291172,28.7291172,28.4736157,28.4736157,28.4736157,28.4736157,28.4736157,28.4736157,28.4736157,28.4736157,28.6789777,28.6789777,28.6789777,28.5424799,28.5956105,28.5956105,28.5833672,28.5953581,28.909752,28.5285097,28.5285097,28.5285097,28.5285097,28.6010574,28.6052615,28.6052615,28.6052615,28.6052615,28.6052615],\"legendgroup\":\"schools\",\"lon\":[76.8476927,76.8476927,76.8476927,77.0742925,77.0742925,77.0742925,77.0742925,77.0742925,77.0742925,76.7828486,76.7828486,76.7828486,76.9018103,76.9018103,76.9018103,76.9018103,76.9018103,76.9018103,76.9018103,76.9018103,76.7802334,76.7802334,76.7802334,77.0616675,76.7350778,76.7350778,77.0285179,76.7375916,76.312164,76.8499198,76.8499198,76.8499198,76.8499198,76.2499679,76.9289347,76.9289347,76.9289347,76.9289347,76.9289347],\"marker\":{\"color\":\"#FFA15A\"},\"mode\":\"markers\",\"name\":\"schools\",\"showlegend\":true,\"subplot\":\"mapbox\",\"type\":\"scattermapbox\"},{\"hovertemplate\":\"<b>%{hovertext}</b><br><br>type_of_place=Universities<br>latitude=%{lat}<br>longitude=%{lon}<extra></extra>\",\"hovertext\":[\"University of Delhi\",\"Jawaharlal Nehru University\",\"Sushant University\",\"Lingaya's Vidyapeeth\",\"Indraprastha Institute of Information Technology Delhi\",\"The NorthCap University\",\"SGT University\",\"Dr. B. R. Ambedkar University Delhi\",\"Indian Institute Of Technology Delhi (IIT Delhi)\",\"Manav Rachna International Institute Of Research And Studies\",\"National Law University, Delhi\",\"PDM University\",\"The Central Sanskrit University - New Delhi, India\",\"JAYPEE INSTITUTE OF INFORMATION TECHNOLOGY\",\"Indira Gandhi National Open University\",\"Maharishi University of Information Technology Noida\",\"Jamia Hamdard University\",\"CollegeSakha - Top Colleges, Universities & Institutes in india\",\"The University of Chicago Center in Delhi\",\"Guru Gobind Singh Indraprastha University\",\"Deakin University South Asia\",\"University of Delhi\",\"Indian Law Institute\",\"NIEPA\",\"Indian Institute of Heritage (National Museum Institute)(NOIDA CAMPUS)\",\"ICFAI University, Sikkim\",\"Northumbria University India Office\",\"University of Delhi, Department of Modern Indian Language And Literary Studies\",\"Guru Gobind Singh Indraprastha University (East Delhi Campus)\",\"Netaji Subhas University of Technology\",\"Indira Gandhi Delhi Technical University for Women\",\"Best MBA College in Noida, Delhi NCR | Jaipuria Institute of Management, Noida\",\"All India Institute Of Medical Sciences Delhi\",\"Jamia Millia Islamia\",\"Lovely Professional University, Punjab\",\"RGI Gurgaon : MBA Colleges India\",\"La Trobe International India\",\"Arunachal Universities Of Studies\",\"Delhi Skill and Entrepreneurship University\",\"School of Planning and Architecture (SPA)\",\"India of colleges\"],\"lat\":[28.6050622,28.6050622,28.6050622,28.6050622,28.6050622,28.6050622,28.4817689,28.4817689,28.6626609,28.6626609,28.5996751,28.5996751,28.5996751,28.631209,28.631209,28.631209,28.631209,28.631209,28.631209,28.5946224,28.5946224,28.5946224,28.6196718,28.6196718,28.6196718,28.6196718,28.6196718,28.6196718,28.6196718,28.6196718,28.6196718,28.6196718,28.6196718,28.6196718,28.6196718,28.4396338,28.5917857,28.5917857,28.5824457,28.5824457,28.5824457],\"legendgroup\":\"Universities\",\"lon\":[76.9289338,76.9289338,76.9289338,76.9289338,76.9289338,76.9289338,76.6023073,76.6023073,76.9290558,76.9290558,76.7183816,76.7183816,76.7183816,77.0660378,77.0660378,77.0660378,77.0660378,77.0660378,77.0660378,76.7165352,76.7165352,76.7165352,76.9336746,76.9336746,76.9336746,76.9336746,76.9336746,76.9336746,76.9336746,76.9336746,76.9336746,76.9336746,76.9336746,76.9336746,76.9336746,76.7078246,76.9920785,76.9920785,76.7577962,76.7577962,76.7577962],\"marker\":{\"color\":\"#19d3f3\"},\"mode\":\"markers\",\"name\":\"Universities\",\"showlegend\":true,\"subplot\":\"mapbox\",\"type\":\"scattermapbox\"}],                        {\"template\":{\"data\":{\"histogram2dcontour\":[{\"type\":\"histogram2dcontour\",\"colorbar\":{\"outlinewidth\":0,\"ticks\":\"\"},\"colorscale\":[[0.0,\"#0d0887\"],[0.1111111111111111,\"#46039f\"],[0.2222222222222222,\"#7201a8\"],[0.3333333333333333,\"#9c179e\"],[0.4444444444444444,\"#bd3786\"],[0.5555555555555556,\"#d8576b\"],[0.6666666666666666,\"#ed7953\"],[0.7777777777777778,\"#fb9f3a\"],[0.8888888888888888,\"#fdca26\"],[1.0,\"#f0f921\"]]}],\"choropleth\":[{\"type\":\"choropleth\",\"colorbar\":{\"outlinewidth\":0,\"ticks\":\"\"}}],\"histogram2d\":[{\"type\":\"histogram2d\",\"colorbar\":{\"outlinewidth\":0,\"ticks\":\"\"},\"colorscale\":[[0.0,\"#0d0887\"],[0.1111111111111111,\"#46039f\"],[0.2222222222222222,\"#7201a8\"],[0.3333333333333333,\"#9c179e\"],[0.4444444444444444,\"#bd3786\"],[0.5555555555555556,\"#d8576b\"],[0.6666666666666666,\"#ed7953\"],[0.7777777777777778,\"#fb9f3a\"],[0.8888888888888888,\"#fdca26\"],[1.0,\"#f0f921\"]]}],\"heatmap\":[{\"type\":\"heatmap\",\"colorbar\":{\"outlinewidth\":0,\"ticks\":\"\"},\"colorscale\":[[0.0,\"#0d0887\"],[0.1111111111111111,\"#46039f\"],[0.2222222222222222,\"#7201a8\"],[0.3333333333333333,\"#9c179e\"],[0.4444444444444444,\"#bd3786\"],[0.5555555555555556,\"#d8576b\"],[0.6666666666666666,\"#ed7953\"],[0.7777777777777778,\"#fb9f3a\"],[0.8888888888888888,\"#fdca26\"],[1.0,\"#f0f921\"]]}],\"heatmapgl\":[{\"type\":\"heatmapgl\",\"colorbar\":{\"outlinewidth\":0,\"ticks\":\"\"},\"colorscale\":[[0.0,\"#0d0887\"],[0.1111111111111111,\"#46039f\"],[0.2222222222222222,\"#7201a8\"],[0.3333333333333333,\"#9c179e\"],[0.4444444444444444,\"#bd3786\"],[0.5555555555555556,\"#d8576b\"],[0.6666666666666666,\"#ed7953\"],[0.7777777777777778,\"#fb9f3a\"],[0.8888888888888888,\"#fdca26\"],[1.0,\"#f0f921\"]]}],\"contourcarpet\":[{\"type\":\"contourcarpet\",\"colorbar\":{\"outlinewidth\":0,\"ticks\":\"\"}}],\"contour\":[{\"type\":\"contour\",\"colorbar\":{\"outlinewidth\":0,\"ticks\":\"\"},\"colorscale\":[[0.0,\"#0d0887\"],[0.1111111111111111,\"#46039f\"],[0.2222222222222222,\"#7201a8\"],[0.3333333333333333,\"#9c179e\"],[0.4444444444444444,\"#bd3786\"],[0.5555555555555556,\"#d8576b\"],[0.6666666666666666,\"#ed7953\"],[0.7777777777777778,\"#fb9f3a\"],[0.8888888888888888,\"#fdca26\"],[1.0,\"#f0f921\"]]}],\"surface\":[{\"type\":\"surface\",\"colorbar\":{\"outlinewidth\":0,\"ticks\":\"\"},\"colorscale\":[[0.0,\"#0d0887\"],[0.1111111111111111,\"#46039f\"],[0.2222222222222222,\"#7201a8\"],[0.3333333333333333,\"#9c179e\"],[0.4444444444444444,\"#bd3786\"],[0.5555555555555556,\"#d8576b\"],[0.6666666666666666,\"#ed7953\"],[0.7777777777777778,\"#fb9f3a\"],[0.8888888888888888,\"#fdca26\"],[1.0,\"#f0f921\"]]}],\"mesh3d\":[{\"type\":\"mesh3d\",\"colorbar\":{\"outlinewidth\":0,\"ticks\":\"\"}}],\"scatter\":[{\"fillpattern\":{\"fillmode\":\"overlay\",\"size\":10,\"solidity\":0.2},\"type\":\"scatter\"}],\"parcoords\":[{\"type\":\"parcoords\",\"line\":{\"colorbar\":{\"outlinewidth\":0,\"ticks\":\"\"}}}],\"scatterpolargl\":[{\"type\":\"scatterpolargl\",\"marker\":{\"colorbar\":{\"outlinewidth\":0,\"ticks\":\"\"}}}],\"bar\":[{\"error_x\":{\"color\":\"#2a3f5f\"},\"error_y\":{\"color\":\"#2a3f5f\"},\"marker\":{\"line\":{\"color\":\"#E5ECF6\",\"width\":0.5},\"pattern\":{\"fillmode\":\"overlay\",\"size\":10,\"solidity\":0.2}},\"type\":\"bar\"}],\"scattergeo\":[{\"type\":\"scattergeo\",\"marker\":{\"colorbar\":{\"outlinewidth\":0,\"ticks\":\"\"}}}],\"scatterpolar\":[{\"type\":\"scatterpolar\",\"marker\":{\"colorbar\":{\"outlinewidth\":0,\"ticks\":\"\"}}}],\"histogram\":[{\"marker\":{\"pattern\":{\"fillmode\":\"overlay\",\"size\":10,\"solidity\":0.2}},\"type\":\"histogram\"}],\"scattergl\":[{\"type\":\"scattergl\",\"marker\":{\"colorbar\":{\"outlinewidth\":0,\"ticks\":\"\"}}}],\"scatter3d\":[{\"type\":\"scatter3d\",\"line\":{\"colorbar\":{\"outlinewidth\":0,\"ticks\":\"\"}},\"marker\":{\"colorbar\":{\"outlinewidth\":0,\"ticks\":\"\"}}}],\"scattermapbox\":[{\"type\":\"scattermapbox\",\"marker\":{\"colorbar\":{\"outlinewidth\":0,\"ticks\":\"\"}}}],\"scatterternary\":[{\"type\":\"scatterternary\",\"marker\":{\"colorbar\":{\"outlinewidth\":0,\"ticks\":\"\"}}}],\"scattercarpet\":[{\"type\":\"scattercarpet\",\"marker\":{\"colorbar\":{\"outlinewidth\":0,\"ticks\":\"\"}}}],\"carpet\":[{\"aaxis\":{\"endlinecolor\":\"#2a3f5f\",\"gridcolor\":\"white\",\"linecolor\":\"white\",\"minorgridcolor\":\"white\",\"startlinecolor\":\"#2a3f5f\"},\"baxis\":{\"endlinecolor\":\"#2a3f5f\",\"gridcolor\":\"white\",\"linecolor\":\"white\",\"minorgridcolor\":\"white\",\"startlinecolor\":\"#2a3f5f\"},\"type\":\"carpet\"}],\"table\":[{\"cells\":{\"fill\":{\"color\":\"#EBF0F8\"},\"line\":{\"color\":\"white\"}},\"header\":{\"fill\":{\"color\":\"#C8D4E3\"},\"line\":{\"color\":\"white\"}},\"type\":\"table\"}],\"barpolar\":[{\"marker\":{\"line\":{\"color\":\"#E5ECF6\",\"width\":0.5},\"pattern\":{\"fillmode\":\"overlay\",\"size\":10,\"solidity\":0.2}},\"type\":\"barpolar\"}],\"pie\":[{\"automargin\":true,\"type\":\"pie\"}]},\"layout\":{\"autotypenumbers\":\"strict\",\"colorway\":[\"#636efa\",\"#EF553B\",\"#00cc96\",\"#ab63fa\",\"#FFA15A\",\"#19d3f3\",\"#FF6692\",\"#B6E880\",\"#FF97FF\",\"#FECB52\"],\"font\":{\"color\":\"#2a3f5f\"},\"hovermode\":\"closest\",\"hoverlabel\":{\"align\":\"left\"},\"paper_bgcolor\":\"white\",\"plot_bgcolor\":\"#E5ECF6\",\"polar\":{\"bgcolor\":\"#E5ECF6\",\"angularaxis\":{\"gridcolor\":\"white\",\"linecolor\":\"white\",\"ticks\":\"\"},\"radialaxis\":{\"gridcolor\":\"white\",\"linecolor\":\"white\",\"ticks\":\"\"}},\"ternary\":{\"bgcolor\":\"#E5ECF6\",\"aaxis\":{\"gridcolor\":\"white\",\"linecolor\":\"white\",\"ticks\":\"\"},\"baxis\":{\"gridcolor\":\"white\",\"linecolor\":\"white\",\"ticks\":\"\"},\"caxis\":{\"gridcolor\":\"white\",\"linecolor\":\"white\",\"ticks\":\"\"}},\"coloraxis\":{\"colorbar\":{\"outlinewidth\":0,\"ticks\":\"\"}},\"colorscale\":{\"sequential\":[[0.0,\"#0d0887\"],[0.1111111111111111,\"#46039f\"],[0.2222222222222222,\"#7201a8\"],[0.3333333333333333,\"#9c179e\"],[0.4444444444444444,\"#bd3786\"],[0.5555555555555556,\"#d8576b\"],[0.6666666666666666,\"#ed7953\"],[0.7777777777777778,\"#fb9f3a\"],[0.8888888888888888,\"#fdca26\"],[1.0,\"#f0f921\"]],\"sequentialminus\":[[0.0,\"#0d0887\"],[0.1111111111111111,\"#46039f\"],[0.2222222222222222,\"#7201a8\"],[0.3333333333333333,\"#9c179e\"],[0.4444444444444444,\"#bd3786\"],[0.5555555555555556,\"#d8576b\"],[0.6666666666666666,\"#ed7953\"],[0.7777777777777778,\"#fb9f3a\"],[0.8888888888888888,\"#fdca26\"],[1.0,\"#f0f921\"]],\"diverging\":[[0,\"#8e0152\"],[0.1,\"#c51b7d\"],[0.2,\"#de77ae\"],[0.3,\"#f1b6da\"],[0.4,\"#fde0ef\"],[0.5,\"#f7f7f7\"],[0.6,\"#e6f5d0\"],[0.7,\"#b8e186\"],[0.8,\"#7fbc41\"],[0.9,\"#4d9221\"],[1,\"#276419\"]]},\"xaxis\":{\"gridcolor\":\"white\",\"linecolor\":\"white\",\"ticks\":\"\",\"title\":{\"standoff\":15},\"zerolinecolor\":\"white\",\"automargin\":true,\"zerolinewidth\":2},\"yaxis\":{\"gridcolor\":\"white\",\"linecolor\":\"white\",\"ticks\":\"\",\"title\":{\"standoff\":15},\"zerolinecolor\":\"white\",\"automargin\":true,\"zerolinewidth\":2},\"scene\":{\"xaxis\":{\"backgroundcolor\":\"#E5ECF6\",\"gridcolor\":\"white\",\"linecolor\":\"white\",\"showbackground\":true,\"ticks\":\"\",\"zerolinecolor\":\"white\",\"gridwidth\":2},\"yaxis\":{\"backgroundcolor\":\"#E5ECF6\",\"gridcolor\":\"white\",\"linecolor\":\"white\",\"showbackground\":true,\"ticks\":\"\",\"zerolinecolor\":\"white\",\"gridwidth\":2},\"zaxis\":{\"backgroundcolor\":\"#E5ECF6\",\"gridcolor\":\"white\",\"linecolor\":\"white\",\"showbackground\":true,\"ticks\":\"\",\"zerolinecolor\":\"white\",\"gridwidth\":2}},\"shapedefaults\":{\"line\":{\"color\":\"#2a3f5f\"}},\"annotationdefaults\":{\"arrowcolor\":\"#2a3f5f\",\"arrowhead\":0,\"arrowwidth\":1},\"geo\":{\"bgcolor\":\"white\",\"landcolor\":\"#E5ECF6\",\"subunitcolor\":\"white\",\"showland\":true,\"showlakes\":true,\"lakecolor\":\"white\"},\"title\":{\"x\":0.05},\"mapbox\":{\"style\":\"light\"}}},\"mapbox\":{\"domain\":{\"x\":[0.0,1.0],\"y\":[0.0,1.0]},\"center\":{\"lat\":29.306090953669727,\"lon\":76.55794656055046},\"zoom\":5,\"style\":\"open-street-map\"},\"legend\":{\"title\":{\"text\":\"type_of_place\"},\"tracegroupgap\":0},\"margin\":{\"t\":60},\"height\":600,\"width\":800},                        {\"responsive\": true}                    ).then(function(){\n",
       "                            \n",
       "var gd = document.getElementById('73046d9b-b1c9-43ea-bae6-bc3979f6f5d3');\n",
       "var x = new MutationObserver(function (mutations, observer) {{\n",
       "        var display = window.getComputedStyle(gd).display;\n",
       "        if (!display || display === 'none') {{\n",
       "            console.log([gd, 'removed!']);\n",
       "            Plotly.purge(gd);\n",
       "            observer.disconnect();\n",
       "        }}\n",
       "}});\n",
       "\n",
       "// Listen for the removal of the full notebook cells\n",
       "var notebookContainer = gd.closest('#notebook-container');\n",
       "if (notebookContainer) {{\n",
       "    x.observe(notebookContainer, {childList: true});\n",
       "}}\n",
       "\n",
       "// Listen for the clearing of the current output cell\n",
       "var outputEl = gd.closest('.output');\n",
       "if (outputEl) {{\n",
       "    x.observe(outputEl, {childList: true});\n",
       "}}\n",
       "\n",
       "                        })                };                });            </script>        </div>"
      ]
     },
     "metadata": {},
     "output_type": "display_data"
    }
   ],
   "source": [
    "fig = px.scatter_mapbox(df, lat=\"latitude\", lon=\"longitude\", hover_name=\"name\", color=\"type_of_place\",\n",
    "                        zoom=5, height=600,width=800)\n",
    "fig.update_layout(mapbox_style=\"open-street-map\")\n",
    "fig.show()"
   ]
  },
  {
   "cell_type": "code",
   "execution_count": 28,
   "id": "a6699a3f",
   "metadata": {},
   "outputs": [],
   "source": [
    "df.to_csv('map_data_cleaned.csv',index=False)"
   ]
  },
  {
   "cell_type": "code",
   "execution_count": null,
   "id": "1d96faa3",
   "metadata": {},
   "outputs": [],
   "source": []
  }
 ],
 "metadata": {
  "kernelspec": {
   "display_name": "Python 3 (ipykernel)",
   "language": "python",
   "name": "python3"
  },
  "language_info": {
   "codemirror_mode": {
    "name": "ipython",
    "version": 3
   },
   "file_extension": ".py",
   "mimetype": "text/x-python",
   "name": "python",
   "nbconvert_exporter": "python",
   "pygments_lexer": "ipython3",
   "version": "3.10.0"
  }
 },
 "nbformat": 4,
 "nbformat_minor": 5
}
